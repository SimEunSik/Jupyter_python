{
 "cells": [
  {
   "cell_type": "markdown",
   "metadata": {},
   "source": [
    "# 네이버 영화"
   ]
  },
  {
   "cell_type": "code",
   "execution_count": 1,
   "metadata": {},
   "outputs": [
    {
     "data": {
      "text/html": [
       " \n",
       "<!-- 에디터 폰트를 조정합니다. -->\n",
       "<style type='text/css'>\n",
       ".CodeMirror{\n",
       "    font-size: 14px;\n",
       "    font-family: Bitstream Vera Sans Mono;}\n",
       "</style>\n"
      ],
      "text/plain": [
       "<IPython.core.display.HTML object>"
      ]
     },
     "metadata": {},
     "output_type": "display_data"
    }
   ],
   "source": [
    "%%html\n",
    " \n",
    "<!-- 에디터 폰트를 조정합니다. -->\n",
    "<style type='text/css'>\n",
    ".CodeMirror{\n",
    "    font-size: 14px;\n",
    "    font-family: Bitstream Vera Sans Mono;}\n",
    "</style>"
   ]
  },
  {
   "cell_type": "code",
   "execution_count": 2,
   "metadata": {},
   "outputs": [],
   "source": [
    "import requests\n",
    "from bs4 import BeautifulSoup\n",
    "import datetime"
   ]
  },
  {
   "cell_type": "markdown",
   "metadata": {},
   "source": [
    "## 날짜 지정하는 함수"
   ]
  },
  {
   "cell_type": "code",
   "execution_count": 3,
   "metadata": {},
   "outputs": [],
   "source": [
    " def get_date(day):\n",
    "    now = datetime.datetime.now()\n",
    "    #tomorrow = now + datetime.timedelta(days=1)\n",
    "    #print(type(tomorrow))\n",
    "    #yesterday = now + datetime.timedelta(days=-1)\n",
    "    # date object -> str\n",
    "    ret_date = now + datetime.timedelta(days=day)\n",
    "    return ret_date.strftime('%Y%m%d')"
   ]
  },
  {
   "cell_type": "code",
   "execution_count": 4,
   "metadata": {
    "scrolled": true
   },
   "outputs": [
    {
     "data": {
      "text/plain": [
       "'20200526'"
      ]
     },
     "execution_count": 4,
     "metadata": {},
     "output_type": "execute_result"
    }
   ],
   "source": [
    "p_date = get_date(-10)\n",
    "p_date"
   ]
  },
  {
   "cell_type": "markdown",
   "metadata": {},
   "source": [
    "## 함수 작업\n",
    "- sel에 조회순=cnt / 평점순(현재상형영화)=cur / 평점순(모든영화)=pnt"
   ]
  },
  {
   "cell_type": "code",
   "execution_count": 5,
   "metadata": {},
   "outputs": [],
   "source": [
    "def get_naver_movie(sel='pnt', date=get_date(-1)):\n",
    "    url = 'https://movie.naver.com/movie/sdb/rank/rmovie.nhn'\n",
    "    params = {'sel':sel,\n",
    "              'date':date}\n",
    "    # Get 요청\n",
    "    response = requests.get(url, params=params)\n",
    "    status_code = response.status_code\n",
    "    print(status_code)\n",
    "    if status_code == 200:\n",
    "        text = response.text\n",
    "        soup = BeautifulSoup(text) #str -> BeautifulSoup 객체 변환\n",
    "    else:\n",
    "        soup = 'Error'\n",
    "    return soup"
   ]
  },
  {
   "cell_type": "markdown",
   "metadata": {},
   "source": [
    "## 영화 전체 받기"
   ]
  },
  {
   "cell_type": "code",
   "execution_count": 6,
   "metadata": {},
   "outputs": [
    {
     "name": "stdout",
     "output_type": "stream",
     "text": [
      "200\n"
     ]
    }
   ],
   "source": [
    "soup = get_naver_movie()\n",
    "movie_table = soup.select_one('table.list_ranking')\n",
    "#movie_table\n",
    "movie_tr_all = movie_table.select('tr')"
   ]
  },
  {
   "cell_type": "markdown",
   "metadata": {},
   "source": [
    "### 영화 한 편의 이름과 평점"
   ]
  },
  {
   "cell_type": "code",
   "execution_count": 7,
   "metadata": {},
   "outputs": [
    {
     "name": "stdout",
     "output_type": "stream",
     "text": [
      "그린 북 9.59\n"
     ]
    }
   ],
   "source": [
    "movie_tr_one = movie_tr_all[2]\n",
    "movie_title = movie_tr_one.select_one('a[title]').text\n",
    "movie_point =movie_tr_one.select_one('td.point').text\n",
    "print(movie_title, movie_point)"
   ]
  },
  {
   "cell_type": "markdown",
   "metadata": {},
   "source": [
    "### 영화 전체의 이름과 평점"
   ]
  },
  {
   "cell_type": "code",
   "execution_count": 8,
   "metadata": {},
   "outputs": [],
   "source": [
    "movie_title_point_list = []\n",
    "for movie_tr_one in movie_tr_all:\n",
    "    movie_title = movie_tr_one.select_one('a[title]')\n",
    "    movie_point =movie_tr_one.select_one('td.point')\n",
    "    \n",
    "    # 존재 하는지 체크\n",
    "    if movie_title:\n",
    "        title = movie_title.text\n",
    "    else:\n",
    "        continue\n",
    "    if movie_point:\n",
    "        point = movie_point.text\n",
    "    else:\n",
    "        continue\n",
    "    movie_title_point_list.append((title, point))"
   ]
  },
  {
   "cell_type": "code",
   "execution_count": 9,
   "metadata": {},
   "outputs": [
    {
     "data": {
      "text/plain": [
       "[('그린 북', '9.59'),\n",
       " ('가버나움', '9.59'),\n",
       " ('베일리 어게인', '9.53'),\n",
       " ('포드 V 페라리', '9.49'),\n",
       " ('원더', '9.49'),\n",
       " ('주전장', '9.49'),\n",
       " ('아일라', '9.49'),\n",
       " ('당갈', '9.47'),\n",
       " ('쇼생크 탈출', '9.44'),\n",
       " ('터미네이터 2:오리지널', '9.44'),\n",
       " ('보헤미안 랩소디', '9.42'),\n",
       " ('덕구', '9.42'),\n",
       " ('나 홀로 집에', '9.41'),\n",
       " ('월-E', '9.41'),\n",
       " ('살인의 추억', '9.40'),\n",
       " ('라이언 일병 구하기', '9.40'),\n",
       " ('인생은 아름다워', '9.40'),\n",
       " ('매트릭스', '9.40'),\n",
       " ('사운드 오브 뮤직', '9.40'),\n",
       " ('포레스트 검프', '9.40'),\n",
       " ('빽 투 더 퓨쳐', '9.40'),\n",
       " ('헬프', '9.40'),\n",
       " ('글래디에이터', '9.39'),\n",
       " ('위대한 쇼맨', '9.39'),\n",
       " ('클래식', '9.39'),\n",
       " ('센과 치히로의 행방불명', '9.39'),\n",
       " ('토이 스토리 3', '9.38'),\n",
       " ('타이타닉', '9.38'),\n",
       " ('알라딘', '9.38'),\n",
       " ('어벤져스: 엔드게임', '9.38'),\n",
       " ('안녕 베일리', '9.37'),\n",
       " ('레옹', '9.37'),\n",
       " ('죽은 시인의 사회', '9.37'),\n",
       " ('캐스트 어웨이', '9.37'),\n",
       " ('헌터 킬러', '9.37'),\n",
       " ('동주', '9.37'),\n",
       " ('반지의 제왕: 왕의 귀환', '9.37'),\n",
       " ('아이 캔 스피크', '9.37'),\n",
       " ('집으로...', '9.37'),\n",
       " ('굿 윌 헌팅', '9.36'),\n",
       " ('히든 피겨스', '9.36'),\n",
       " ('굿바이 마이 프랜드', '9.35'),\n",
       " ('여인의 향기', '9.35'),\n",
       " ('주토피아', '9.35'),\n",
       " ('서유기 2 - 선리기연', '9.35'),\n",
       " ('모노노케 히메', '9.35'),\n",
       " ('달링', '9.35'),\n",
       " ('클레멘타인', '9.35'),\n",
       " ('쉰들러 리스트', '9.35'),\n",
       " ('세 얼간이', '9.35')]"
      ]
     },
     "execution_count": 9,
     "metadata": {},
     "output_type": "execute_result"
    }
   ],
   "source": [
    "movie_title_point_list"
   ]
  }
 ],
 "metadata": {
  "kernelspec": {
   "display_name": "Python 3",
   "language": "python",
   "name": "python3"
  },
  "language_info": {
   "codemirror_mode": {
    "name": "ipython",
    "version": 3
   },
   "file_extension": ".py",
   "mimetype": "text/x-python",
   "name": "python",
   "nbconvert_exporter": "python",
   "pygments_lexer": "ipython3",
   "version": "3.7.7"
  }
 },
 "nbformat": 4,
 "nbformat_minor": 4
}
