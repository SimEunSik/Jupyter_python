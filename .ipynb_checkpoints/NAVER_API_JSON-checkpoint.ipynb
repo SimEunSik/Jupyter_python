{
 "cells": [
  {
   "cell_type": "markdown",
   "metadata": {},
   "source": [
    "# Naver_API를 이용한 검색기(json)"
   ]
  },
  {
   "cell_type": "code",
   "execution_count": 1,
   "metadata": {},
   "outputs": [],
   "source": [
    "import requests"
   ]
  },
  {
   "cell_type": "markdown",
   "metadata": {},
   "source": [
    "## 책 검색"
   ]
  },
  {
   "cell_type": "code",
   "execution_count": 9,
   "metadata": {},
   "outputs": [],
   "source": [
    "def py_xml_proc_book(resp):\n",
    "    book = resp.json()\n",
    "    book_all = book['items']\n",
    "    for book_one in book_all:\n",
    "        title_b = book_one['title']\n",
    "        title = title_b.replace('<b>','').replace('</b>','')\n",
    "        price = book_one['price']\n",
    "        discount = book_one['discount']\n",
    "        print('* Title : {}'.format(title))\n",
    "        print('* Price : {}'.format(price))\n",
    "        print('* Discount : {}'.format(discount))\n",
    "        print('*'*50)"
   ]
  },
  {
   "cell_type": "markdown",
   "metadata": {},
   "source": [
    "## 블로그 검색"
   ]
  },
  {
   "cell_type": "code",
   "execution_count": 11,
   "metadata": {},
   "outputs": [],
   "source": [
    "def py_xml_proc_blog(resp):\n",
    "    blog = resp.json()\n",
    "    blog_all = blog['items']\n",
    "    for blog_one in blog_all:\n",
    "        blog_b = blog_one['title']\n",
    "        title = blog_b.replace('&lt;','').replace('&gt;','')\n",
    "        bloggername = blog_one['bloggername']\n",
    "        bloggerlink = blog_one['bloggerlink']\n",
    "        print('* Title : {}'.format(title))\n",
    "        print('* bloggername : {}'.format(bloggername))\n",
    "        print('* bloggerlink : {}'.format(bloggerlink))\n",
    "        print('*'*50)"
   ]
  },
  {
   "cell_type": "markdown",
   "metadata": {},
   "source": [
    "## 뉴스 검색"
   ]
  },
  {
   "cell_type": "code",
   "execution_count": 13,
   "metadata": {},
   "outputs": [],
   "source": [
    "def py_xml_proc_news(resp):\n",
    "    news = resp.json()\n",
    "    news_all = news['items']\n",
    "    for news_one in news_all:\n",
    "        news_b = news_one['title']\n",
    "        title = news_b.replace('&amp;','').replace('quot;','')\n",
    "        originallink = news_one['originallink']\n",
    "        link = news_one['link']\n",
    "        print('* Title : {}'.format(title))\n",
    "        print('* originallink : {}'.format(originallink))\n",
    "        print('* link : {}'.format(link))\n",
    "        print('*'*50)"
   ]
  },
  {
   "cell_type": "markdown",
   "metadata": {},
   "source": [
    "## 쇼핑 검색"
   ]
  },
  {
   "cell_type": "code",
   "execution_count": 15,
   "metadata": {},
   "outputs": [],
   "source": [
    "def py_xml_proc_shop(resp):\n",
    "    shop = resp.json()\n",
    "    shop_all = shop['items']\n",
    "    for shop_one in shop_all:\n",
    "        shop_b = shop_one['title']\n",
    "        title = shop_b.replace('&lt;','').replace('b&gt;','').replace('<b>','').replace('</b>','')\n",
    "        productType = shop_one['productType']\n",
    "        if productType == '1' or productType == '2' or productType == '3':\n",
    "            productType = '일반상품'\n",
    "        elif productType == '4' or productType == '5' or productType == '6':\n",
    "            productType = '중고상품'\n",
    "        elif productType == '7' or productType == '8' or productType == '9':\n",
    "            productType = '단종상품'\n",
    "        else:\n",
    "            productType = '판매예정상품'\n",
    "\n",
    "        maker = shop_one['maker']\n",
    "        brand = shop_one['brand']\n",
    "        lprice = shop_one['lprice']\n",
    "        hprice = shop_one['hprice']\n",
    "        print('* Title : {}'.format(title))\n",
    "        print('* productType : {}'.format(productType))\n",
    "        print('* maker : {}'.format(maker))\n",
    "        print('* brand : {}'.format(brand))\n",
    "        print('* lprice : {}'.format(lprice))\n",
    "        print('* hprice : {}'.format(hprice))\n",
    "        print('*'*50)"
   ]
  },
  {
   "cell_type": "code",
   "execution_count": 6,
   "metadata": {},
   "outputs": [],
   "source": [
    "def naver_search_json(number, query, display, start, sort):\n",
    "    \n",
    "    search_kind = ['book', 'blog', 'news', 'shop']\n",
    "    \n",
    "    client_id = 'glFCNpHmWcZ2hOCDFAsG'\n",
    "    client_secret = '4ZCr3SKTTz'\n",
    "    \n",
    "    url = 'https://openapi.naver.com/v1/search/{}.json'.format(search_kind[number-1])\n",
    "    params = {'query':query, 'display':display, 'start':start, 'sort':sort}\n",
    "    headers = {\n",
    "        'X-Naver-Client-Id':client_id, 'X-Naver-Client-Secret':client_secret\n",
    "    }\n",
    "    response = requests.get(url, headers=headers, params=params)\n",
    "\n",
    "    # 항목 추가되면 elif문 추가 할 것\n",
    "    if response.status_code == 200 and number == 1:\n",
    "        py_xml_proc_book(response)\n",
    "    elif response.status_code == 200 and number == 2:\n",
    "        py_xml_proc_blog(response)\n",
    "    elif response.status_code == 200 and number == 3:\n",
    "        py_xml_proc_news(response)\n",
    "    elif response.status_code == 200 and number == 4:\n",
    "        py_xml_proc_shop(response)\n",
    "    else:\n",
    "        print(response.status_code)"
   ]
  },
  {
   "cell_type": "code",
   "execution_count": 7,
   "metadata": {},
   "outputs": [],
   "source": [
    "def app():\n",
    "    prompt = '''\n",
    "        1. Book Search\n",
    "        2. Blog Search\n",
    "        3. News Search\n",
    "        4. Shopping Search\n",
    "        5. Quit\n",
    "    '''\n",
    "    number = 0\n",
    "    while True:\n",
    "        print(prompt)\n",
    "        number = int(input())\n",
    "        if number == 5:\n",
    "            print('안녕히가세요.')\n",
    "            break\n",
    "        query = input('검색어를 넣으세요 >')\n",
    "        display = 10\n",
    "        start = 1\n",
    "        sort = 'date'\n",
    "        naver_search_json(number, query, display, start, sort)"
   ]
  },
  {
   "cell_type": "code",
   "execution_count": 16,
   "metadata": {
    "scrolled": true
   },
   "outputs": [
    {
     "name": "stdout",
     "output_type": "stream",
     "text": [
      "\n",
      "        1. Book Search\n",
      "        2. Blog Search\n",
      "        3. News Search\n",
      "        4. Shopping Search\n",
      "        5. Quit\n",
      "    \n",
      "4\n",
      "검색어를 넣으세요 >러닝화\n",
      "* Title : 메쉬 스판 운동화 여성 스니커즈 여름운동화\n",
      "* productType : 일반상품\n",
      "* maker : \n",
      "* brand : \n",
      "* lprice : 21000\n",
      "* hprice : 0\n",
      "**************************************************\n",
      "* Title : 리복 드리프티움 CN3540\n",
      "* productType : 일반상품\n",
      "* maker : 리복\n",
      "* brand : 리복\n",
      "* lprice : 35000\n",
      "* hprice : 0\n",
      "**************************************************\n",
      "* Title : 찍찍이운동화 2019가을겨울 흰색슈즈 여성두터운바닥 키높이 8CM벨크로 활용성굿\n",
      "* productType : 일반상품\n",
      "* maker : \n",
      "* brand : \n",
      "* lprice : 111200\n",
      "* hprice : 0\n",
      "**************************************************\n",
      "* Title : 여성러닝화 에어운동화 줌 피얼리스 조깅화 신발\n",
      "* productType : 일반상품\n",
      "* maker : 나이키\n",
      "* brand : 나이키\n",
      "* lprice : 186470\n",
      "* hprice : 0\n",
      "**************************************************\n",
      "* Title : 아디다스 듀라모 SL_FV8787\n",
      "* productType : 일반상품\n",
      "* maker : 아디다스\n",
      "* brand : 아디다스\n",
      "* lprice : 69000\n",
      "* hprice : 0\n",
      "**************************************************\n",
      "* Title : 털운동화 운동화 여성 2019 가을겨울용 활용성굿 러닝화 기모 보온 블랙 캐쥬얼 플랫\n",
      "* productType : 일반상품\n",
      "* maker : \n",
      "* brand : \n",
      "* lprice : 111200\n",
      "* hprice : 0\n",
      "**************************************************\n",
      "* Title : 나이키 VAPOR 13 ACADEMY HG AT7957-606 남자축구화 운동화추천 인기축구화 학생축구화\n",
      "* productType : 일반상품\n",
      "* maker : 나이키\n",
      "* brand : 나이키\n",
      "* lprice : 82000\n",
      "* hprice : 0\n",
      "**************************************************\n",
      "* Title : 찍찍이운동화 아버지 가죽신발 방수 가을겨울셋트 운동화 헬스화 미끄럼방지발매트 노인\n",
      "* productType : 일반상품\n",
      "* maker : \n",
      "* brand : \n",
      "* lprice : 111200\n",
      "* hprice : 0\n",
      "**************************************************\n",
      "* Title : 남자신발 런닝화 운동화 남성스니커즈 ZG-OW01\n",
      "* productType : 일반상품\n",
      "* maker : \n",
      "* brand : \n",
      "* lprice : 12470\n",
      "* hprice : 0\n",
      "**************************************************\n",
      "* Title : 스니커즈 HJ-카우보이 남자운동화 남성단화 슬립온\n",
      "* productType : 일반상품\n",
      "* maker : \n",
      "* brand : \n",
      "* lprice : 37470\n",
      "* hprice : 0\n",
      "**************************************************\n",
      "\n",
      "        1. Book Search\n",
      "        2. Blog Search\n",
      "        3. News Search\n",
      "        4. Shopping Search\n",
      "        5. Quit\n",
      "    \n",
      "5\n",
      "안녕히가세요.\n"
     ]
    }
   ],
   "source": [
    "app()"
   ]
  }
 ],
 "metadata": {
  "kernelspec": {
   "display_name": "Python 3",
   "language": "python",
   "name": "python3"
  },
  "language_info": {
   "codemirror_mode": {
    "name": "ipython",
    "version": 3
   },
   "file_extension": ".py",
   "mimetype": "text/x-python",
   "name": "python",
   "nbconvert_exporter": "python",
   "pygments_lexer": "ipython3",
   "version": "3.7.7"
  }
 },
 "nbformat": 4,
 "nbformat_minor": 4
}
