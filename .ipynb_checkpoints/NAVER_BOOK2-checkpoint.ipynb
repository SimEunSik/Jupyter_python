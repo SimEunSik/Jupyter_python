{
 "cells": [
  {
   "cell_type": "markdown",
   "metadata": {},
   "source": [
    "# 네이버 책 검색기"
   ]
  },
  {
   "cell_type": "code",
   "execution_count": 1,
   "metadata": {},
   "outputs": [
    {
     "data": {
      "text/html": [
       "<style type='text/css'>\n",
       ".CodeMirror { font-size: 14px; font-family: Bitstream Vera Sans Mono}\n",
       "</style>\n"
      ],
      "text/plain": [
       "<IPython.core.display.HTML object>"
      ]
     },
     "metadata": {},
     "output_type": "display_data"
    }
   ],
   "source": [
    "%%html\n",
    "<style type='text/css'>\n",
    ".CodeMirror { font-size: 14px; font-family: Bitstream Vera Sans Mono}\n",
    "</style>"
   ]
  },
  {
   "cell_type": "code",
   "execution_count": 2,
   "metadata": {},
   "outputs": [],
   "source": [
    "import requests\n",
    "from bs4 import BeautifulSoup"
   ]
  },
  {
   "cell_type": "code",
   "execution_count": 3,
   "metadata": {},
   "outputs": [],
   "source": [
    "# 주소 작업\n",
    "url = 'https://book.naver.com/search/search.nhn'\n",
    "params = {'sm':'sta_hty.book', \n",
    "          'sug':'',\n",
    "          'where':'nexearch',\n",
    "          'query':'bigdata'}"
   ]
  },
  {
   "cell_type": "code",
   "execution_count": 4,
   "metadata": {},
   "outputs": [
    {
     "name": "stdout",
     "output_type": "stream",
     "text": [
      "200\n"
     ]
    }
   ],
   "source": [
    "# get 요청\n",
    "response = requests.get(url, params=params)\n",
    "status_code = response.status_code\n",
    "print(status_code)\n",
    "if status_code == 200:\n",
    "    text = response.text\n",
    "    "
   ]
  },
  {
   "cell_type": "code",
   "execution_count": 6,
   "metadata": {},
   "outputs": [],
   "source": [
    "# str ==> BeautifulSoup \n",
    "#print(text)\n",
    "soup = BeautifulSoup(text)"
   ]
  },
  {
   "cell_type": "code",
   "execution_count": 8,
   "metadata": {},
   "outputs": [],
   "source": [
    "# 책 전체 정보 가져오기 ==> 크롬 개발자 도구\n",
    "book_all = soup.find(id='searchBiblioList')\n",
    "# book_all = soup.find(attrs={'id':'searchBiblioList'})\n",
    "# book_all = soup.select_one('#searchBiblioList')\n",
    "#book_all"
   ]
  },
  {
   "cell_type": "code",
   "execution_count": 14,
   "metadata": {},
   "outputs": [],
   "source": [
    "book_all_li_all = book_all.select('li') # 책 각각 전체\n",
    "book_all_li_one = book_all.select_one('li') # 책 한개"
   ]
  },
  {
   "cell_type": "code",
   "execution_count": 21,
   "metadata": {},
   "outputs": [
    {
     "name": "stdout",
     "output_type": "stream",
     "text": [
      "15516543\n"
     ]
    }
   ],
   "source": [
    "# 책 bid 한개 가져오기\n",
    "bid_one = book_all_li_one.a['href'].split('=')[1]\n",
    "print(bid_one)"
   ]
  },
  {
   "cell_type": "code",
   "execution_count": 24,
   "metadata": {},
   "outputs": [],
   "source": [
    "# 책 bid 다가져와서 list에 담기\n",
    "bid_list = []\n",
    "for book_all_li_one in book_all_li_all:\n",
    "    b_id = book_all_li_one.a['href'].split('=')[1]\n",
    "    bid_list.append(b_id)\n",
    "    #print(b_id)"
   ]
  },
  {
   "cell_type": "code",
   "execution_count": 26,
   "metadata": {},
   "outputs": [],
   "source": [
    "# bid ist 확인\n",
    "#bid_list"
   ]
  },
  {
   "cell_type": "code",
   "execution_count": 29,
   "metadata": {},
   "outputs": [
    {
     "name": "stdout",
     "output_type": "stream",
     "text": [
      "Spatial Analysis Using Big Data: Methods and Urban Applications\n"
     ]
    }
   ],
   "source": [
    "# 책제목 하나 가져오기\n",
    "#book_all_li_one\n",
    "title_one = book_all_li_one.img['alt']\n",
    "print(title_one)"
   ]
  },
  {
   "cell_type": "code",
   "execution_count": 30,
   "metadata": {},
   "outputs": [],
   "source": [
    "# 책제목 전체가져와서 list 담기\n",
    "title_list = []\n",
    "for book_all_li_one in book_all_li_all:\n",
    "    t_id = book_all_li_one.img['alt']\n",
    "    title_list.append(t_id)\n",
    "    #print(b_id)"
   ]
  },
  {
   "cell_type": "code",
   "execution_count": 32,
   "metadata": {},
   "outputs": [],
   "source": [
    "# 책 제목 리스트\n",
    "#title_list"
   ]
  },
  {
   "cell_type": "code",
   "execution_count": 41,
   "metadata": {},
   "outputs": [
    {
     "name": "stdout",
     "output_type": "stream",
     "text": [
      "Yoshiki Yamagata 저  Elsevier 2019.11.03\n"
     ]
    }
   ],
   "source": [
    "# 저자 , 출판사, 출판일\n",
    "book_text = book_all_li_one.select_one('dd.txt_block').text\n",
    "book_text = book_text.replace('\\n','').replace('\\r','')\n",
    "book_text = book_text.replace('\\t','').replace('\\xa0','')\n",
    "book_text_list = book_text.split('|')\n",
    "book_author = book_text_list[0]\n",
    "book_publish = book_text_list[1]\n",
    "book_pubdate = book_text_list[2]\n",
    "print(book_author,book_publish,book_pubdate)"
   ]
  },
  {
   "cell_type": "code",
   "execution_count": 44,
   "metadata": {},
   "outputs": [],
   "source": [
    "author_list = list()\n",
    "publish_list = list()\n",
    "pubdate_list = list()\n",
    "for book_all_li_one in book_all_li_all:\n",
    "    book_text = book_all_li_one.select_one('dd.txt_block').text\n",
    "    book_text = book_text.replace('\\n','').replace('\\r','')\n",
    "    book_text = book_text.replace('\\t','').replace('\\xa0','')\n",
    "    book_text_list = book_text.split('|')\n",
    "    if(len(book_text_list)) == 4:\n",
    "        book_author = book_text_list[0] + book_text_list[1]\n",
    "        book_publish = book_text_list[2]\n",
    "        book_pubdate = book_text_list[3]\n",
    "    else:\n",
    "        book_author = book_text_list[0]\n",
    "        book_publish = book_text_list[1]\n",
    "        book_pubdate = book_text_list[2]\n",
    "    author_list.append(book_author)\n",
    "    publish_list.append(book_publish)\n",
    "    pubdate_list.append(book_pubdate)"
   ]
  },
  {
   "cell_type": "code",
   "execution_count": 45,
   "metadata": {},
   "outputs": [
    {
     "name": "stdout",
     "output_type": "stream",
     "text": [
      "['조치선, 정영진 외 5명 저 ', '안지선 글  송진욱 그림', '김진호(대학교수), 최용주(대학부총장) 저 ', '이범식 김은주 전소현 이상범 저 ', 'Petr Skoda 저 ', 'Vikas Khare 저 ', '편집부 저 ', '박형준 저 ', 'Stephens-davidowitz, Seth 저 ', 'Dinesh Peter 저 ', '버나드 마 저  Ann Lee 역', 'Pedersen, John S. (EDT), Wilkinson, Adrian (EDT) 저 ', '조명화(여행작가) 저 ', 'Sarangi, Saswat, Sharma, Pankaj 저 ', 'Sarangi, Saswat, Sharma, Pankaj 저 ', 'Soraya Sedkaoui 저 ', 'Zhihua Zhang 저 ', '이랑(가수), 황국영 저 ', 'Zgurovsky, Michael Z., Zaychenko, Yuriy P. 저 ', 'Yoshiki Yamagata 저 ']\n",
      "['엑셈', '봄볕', '북카라반', '구민사', 'Elsevier', 'Elsevier', 'IRSGlobal', '리드리드출판', 'DeyStreetBooks', 'Elsevier', '교학사', 'EdwardElgarPub', '테마여행신문TTNThemeTravelNewsKorea', 'RoutledgeIndia', 'RoutledgeIndia', 'Wiley-ISTE', 'Elsevier', '소시민워크', 'Springer-NatureNewYorkInc', 'Elsevier']\n",
      "['2019.09.25', '2018.05.16', '2018.07.25', '2020.04.20', '2020.04.22', '2020.04.21', '2019.02.26', '2018.07.27', '2018.02.27', '2020.03.09', '2016.03.20', '2019.11.29', '2018.03.03', '2019.10.05', '2019.10.03', '2020.01.09', '2019.12.03', '2016.02.01', '2019.07.05', '2019.11.03']\n"
     ]
    }
   ],
   "source": [
    "print(author_list)\n",
    "print(publish_list)\n",
    "print(pubdate_list)"
   ]
  },
  {
   "cell_type": "code",
   "execution_count": 51,
   "metadata": {},
   "outputs": [
    {
     "name": "stdout",
     "output_type": "stream",
     "text": [
      "13000 11700\n"
     ]
    }
   ],
   "source": [
    "#가격 (정가 , 할인가) 숫자만\n",
    "# 저자 , 출판사, 출판일\n",
    "book_txt_desc = book_all_li_all[4].select_one('dd.txt_desc')\n",
    "price_old = book_txt_desc.select_one('strike').text\n",
    "price_old = price_old.split('원')[0]\n",
    "price_new = book_txt_desc.select_one('em.price').text\n",
    "price_new = price_new.split('원')[0]\n",
    "print(price_old, price_new)\n"
   ]
  },
  {
   "cell_type": "code",
   "execution_count": 59,
   "metadata": {},
   "outputs": [
    {
     "name": "stdout",
     "output_type": "stream",
     "text": [
      "0 0\n"
     ]
    }
   ],
   "source": [
    "# 오류 작업\n",
    "book_txt_desc = book_all_li_all[4].select_one('dd.txt_desc')\n",
    "#book_txt_desc\n",
    "price_old = book_txt_desc.select_one('strike')\n",
    "price_new = book_txt_desc.select_one('em.price')\n",
    "if price_old == None:\n",
    "    price_old  = 0\n",
    "else:\n",
    "    price_old = price_old.split('원')[0]\n",
    "\n",
    "if price_new == None:\n",
    "    price_new  = 0\n",
    "else:\n",
    "    price_new = price_new.split('원')[0]    \n",
    "\n",
    "print(price_old, price_new)"
   ]
  },
  {
   "cell_type": "code",
   "execution_count": 69,
   "metadata": {},
   "outputs": [],
   "source": [
    "price_list = list()\n",
    "for book_all_li_one in book_all_li_all:\n",
    "    book_txt_desc = book_all_li_one.select_one('dd.txt_desc')\n",
    "    price_old = book_txt_desc.select_one('strike')\n",
    "    price_new = book_txt_desc.select_one('em.price')\n",
    "    if price_old == None:\n",
    "        price_old  = 0\n",
    "        #print(price_old)\n",
    "    else:\n",
    "        #print(price_old)\n",
    "        price_old = price_old.text.split('원')[0]\n",
    "\n",
    "    if price_new == None:\n",
    "        price_new  = 0\n",
    "        #print(price_new)\n",
    "    else:\n",
    "        #print(price_new)\n",
    "        price_new = price_new.text.split('원')[0] \n",
    "    \n",
    "    price_list.append((price_old, price_new))"
   ]
  },
  {
   "cell_type": "code",
   "execution_count": 70,
   "metadata": {},
   "outputs": [
    {
     "data": {
      "text/plain": [
       "[('25000', '22500'),\n",
       " ('13000', '11700'),\n",
       " ('16000', '14400'),\n",
       " ('21000', '20370'),\n",
       " (0, 0),\n",
       " (0, 0),\n",
       " ('390000', '351000'),\n",
       " ('15800', '14220'),\n",
       " ('22220', '13880'),\n",
       " (0, 0),\n",
       " ('14000', '12600'),\n",
       " ('189540', '188320'),\n",
       " (0, 0),\n",
       " ('69650', '57120'),\n",
       " ('196560', '177940'),\n",
       " (0, 0),\n",
       " (0, 0),\n",
       " (0, 0),\n",
       " ('214180', '190630'),\n",
       " (0, 0)]"
      ]
     },
     "execution_count": 70,
     "metadata": {},
     "output_type": "execute_result"
    }
   ],
   "source": [
    "price_list"
   ]
  },
  {
   "cell_type": "code",
   "execution_count": 71,
   "metadata": {},
   "outputs": [],
   "source": [
    "book_info_list = list()\n",
    "book_info_dict = dict()"
   ]
  },
  {
   "cell_type": "code",
   "execution_count": 72,
   "metadata": {},
   "outputs": [],
   "source": [
    "for i in range(len(bid_list)):\n",
    "    book_info_dict['bid'] = bid_list[i]\n",
    "    book_info_dict['title'] = title_list[i]\n",
    "    book_info_dict['author'] = author_list[i]\n",
    "    book_info_dict['publish'] = publish_list[i]\n",
    "    book_info_dict['pubdate'] = pubdate_list[i]\n",
    "    book_info_dict['price_old_new'] = price_list[i]\n",
    "    book_info_list.append(book_info_dict)"
   ]
  },
  {
   "cell_type": "code",
   "execution_count": 76,
   "metadata": {},
   "outputs": [
    {
     "data": {
      "text/plain": [
       "(0, 0)"
      ]
     },
     "execution_count": 76,
     "metadata": {},
     "output_type": "execute_result"
    }
   ],
   "source": [
    "book_info_list[0]['price_old_new']"
   ]
  }
 ],
 "metadata": {
  "kernelspec": {
   "display_name": "Python 3",
   "language": "python",
   "name": "python3"
  },
  "language_info": {
   "codemirror_mode": {
    "name": "ipython",
    "version": 3
   },
   "file_extension": ".py",
   "mimetype": "text/x-python",
   "name": "python",
   "nbconvert_exporter": "python",
   "pygments_lexer": "ipython3",
   "version": "3.7.7"
  }
 },
 "nbformat": 4,
 "nbformat_minor": 4
}
