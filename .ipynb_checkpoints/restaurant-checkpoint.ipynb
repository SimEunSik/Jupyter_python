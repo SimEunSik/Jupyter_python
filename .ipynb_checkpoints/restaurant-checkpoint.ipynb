{
 "cells": [
  {
   "cell_type": "markdown",
   "metadata": {},
   "source": [
    "# 식신로드, 역대 서울지역 '만점 식당' 20선\n",
    "- 음식점 이름, 전화번호, 주소 크롤링하여 리스트에 저장"
   ]
  },
  {
   "cell_type": "code",
   "execution_count": 1,
   "metadata": {},
   "outputs": [],
   "source": [
    "from selenium import webdriver\n",
    "from selenium.webdriver.common.keys import Keys\n",
    "from selenium.webdriver.support.ui import WebDriverWait\n",
    "from selenium.webdriver.support import expected_conditions as EC\n",
    "from selenium.webdriver.common.by import By\n",
    "\n",
    "from bs4 import BeautifulSoup\n",
    "import time\n",
    "import re\n",
    "import requests"
   ]
  },
  {
   "cell_type": "code",
   "execution_count": 2,
   "metadata": {},
   "outputs": [],
   "source": [
    "chrome_driver = 'D:/bigdata/Jupyter_python/chromedriver.exe'\n",
    "driver = webdriver.Chrome(chrome_driver)\n",
    "driver.implicitly_wait(5) # 응답의 시간 지연\n",
    "url = 'https://www.wikitree.co.kr/articles/217101'\n",
    "# chrome driver로 해당 페이지가 물리적으로 open\n",
    "driver.get(url)\n",
    "\n",
    "# 소스 가져오기\n",
    "src = driver.page_source\n",
    "\n",
    "# 소스 BeautifulSoup 객체로 변환\n",
    "soup = BeautifulSoup(src)\n",
    "\n",
    "comment_area = soup.select('div#wikicon div')\n",
    "\n",
    "# chrome driver 사용 후, close 함수로 종료\n",
    "# driver.close()"
   ]
  },
  {
   "cell_type": "code",
   "execution_count": 3,
   "metadata": {},
   "outputs": [
    {
     "name": "stdout",
     "output_type": "stream",
     "text": [
      "20\n",
      "['다성일식', '봉산집', '창고43', '돕감자탕', '대보명가', '해뜨는집', '아이 해브어 드림', '아현동 간장게장', '왕소금구이', '라틀리에 모니크', '비스트로 딩고', '줄리에뜨', '충주집', '영화루', '일품헌', '립스테이크', '오가와', '까사디노아', '충무로 주꾸미 불고기', '애성회관']\n"
     ]
    }
   ],
   "source": [
    "name = []\n",
    "strong = soup.select('div#wikicon strong')\n",
    "# print(strong)\n",
    "for item in strong:\n",
    "    if len(item.text) > 1:\n",
    "        item = item.text.split('회 ')\n",
    "#         print(item)\n",
    "        if len(item) > 1:\n",
    "            item = item[1]\n",
    "            name.append(item)\n",
    "print(len(name))\n",
    "print(name)"
   ]
  },
  {
   "cell_type": "code",
   "execution_count": 4,
   "metadata": {},
   "outputs": [
    {
     "name": "stdout",
     "output_type": "stream",
     "text": [
      "20\n",
      "['02-338-8951', '02-793-5022', '02-786-5959', '02-499-2838', '02-907-6998', '02-764-6354', '02-3453-7696', '02-312-7530', '02-545-6844', '02-549-9210', '02-518-7866', '02-535-4002', '02-923-1068', '02-738-1218', '02-574-7117', '02-379-2581', '02-735-1001', '02-3142-1108', '02-2279-0803', '02-352-0303 ']\n"
     ]
    }
   ],
   "source": [
    "p = soup.select('div#wikicon p')\n",
    "address = []\n",
    "tel = []\n",
    "content = []\n",
    "del(p[0])\n",
    "del(p[0])\n",
    "# print(p)\n",
    "for i in p:\n",
    "    if '서울시' in i.text or '서울' in i.text or '종로구' in i.text:\n",
    "        address.append(i.text.replace('\\xa0', ' '))\n",
    "    if '02' in i.text:\n",
    "        tel.append(i.text.replace('\\xa0', ' '))\n",
    "# print(len(address))\n",
    "# print(address)\n",
    "print(len(tel))\n",
    "print(tel)"
   ]
  },
  {
   "cell_type": "code",
   "execution_count": 55,
   "metadata": {},
   "outputs": [
    {
     "name": "stdout",
     "output_type": "stream",
     "text": [
      "[('다성일식', '02-338-8951', '서울시 서대문구 창천동 72-36'), ('봉산집', '02-793-5022', '서울시 용산구 용산동3가 1-21'), ('창고43', '02-786-5959', '서울시 영등포구 여의도동 44-37 아일렉스타워15층(스카이점)'), ('돕감자탕', '02-499-2838', '서울시 광진구 화양동 9-22'), ('대보명가', '02-907-6998', '서울시 강북구 수유동 563-14'), ('해뜨는집', '02-764-6354', '서울시 성북구 동소문동 1가 62'), ('아이 해브어 드림', '02-3453-7696', '서울시 강남구 역삼동 821 이즈타워 B3'), ('아현동 간장게장', '02-312-7530', '서울시 마포구 아현동  282-1'), ('왕소금구이', '02-545-6844', '서울시 강남구 논현동 98-12'), ('라틀리에 모니크', '02-549-9210', '서울시 강남구 청담동 80-21'), ('비스트로 딩고', '02-518-7866', '서울시 강남구 신사동 526-11'), ('줄리에뜨', '02-535-4002', '서울시 서초구 반포4동 82-22'), ('충주집', '02-923-1068', '서울시 동대문구 제기동 138-2'), ('영화루', '02-738-1218', '서울시 종로구 누하동 25-1'), ('일품헌', '02-574-7117', '서울시 서초구 양재동 1-28'), ('립스테이크', '02-379-2581', '서울시 종로구 부암동 208-37'), ('오가와', '02-735-1001', '종로구 당주동 5 로얄빌딩 지하 1층'), ('까사디노아', '02-3142-1108', '서울 마포구 연남동 257-8 '), ('충무로 주꾸미 불고기', '02-2279-0803', '서울 중구 필동 1가 3-20'), ('애성회관', '02-352-0303 ', '서울 중구 북창동 93-36')]\n"
     ]
    }
   ],
   "source": [
    "result=[]\n",
    "for i in range(len(name)):\n",
    "    result.append((name[i], tel[i], address[i]))\n",
    "print(result)"
   ]
  },
  {
   "cell_type": "markdown",
   "metadata": {},
   "source": [
    "# 정규표현식 사용"
   ]
  },
  {
   "cell_type": "code",
   "execution_count": 6,
   "metadata": {},
   "outputs": [],
   "source": [
    "url = 'https://www.wikitree.co.kr/articles/217101'\n",
    "response = requests.get(url)"
   ]
  },
  {
   "cell_type": "code",
   "execution_count": 8,
   "metadata": {},
   "outputs": [],
   "source": [
    "resp = response.text.replace('&nbsp;',' ') # 공백처리\n",
    "soup = BeautifulSoup(response.text)\n",
    "#soup"
   ]
  },
  {
   "cell_type": "code",
   "execution_count": 10,
   "metadata": {},
   "outputs": [],
   "source": [
    "raw_data = soup.select_one('div#wikicon')\n",
    "#raw_data"
   ]
  },
  {
   "cell_type": "markdown",
   "metadata": {},
   "source": [
    "## 음식점이름 가져오기"
   ]
  },
  {
   "cell_type": "code",
   "execution_count": 18,
   "metadata": {},
   "outputs": [],
   "source": [
    "title_all = raw_data.select('div strong')\n",
    "first_title_list = []\n",
    "for title_one in title_all:\n",
    "    title_text = title_one.text\n",
    "    if title_text:\n",
    "        if title_text.strip() == '14.' or title_text.strip() == '20.':\n",
    "            continue\n",
    "        else:\n",
    "            first_title_list.append(title_text)"
   ]
  },
  {
   "cell_type": "code",
   "execution_count": 20,
   "metadata": {},
   "outputs": [],
   "source": [
    "#first_title_list"
   ]
  },
  {
   "cell_type": "code",
   "execution_count": 27,
   "metadata": {},
   "outputs": [],
   "source": [
    "second_title_list = []\n",
    "for title_one in first_title_list:\n",
    "    second_title_list.append(title_one.split('회 ')[1])"
   ]
  },
  {
   "cell_type": "code",
   "execution_count": 30,
   "metadata": {},
   "outputs": [],
   "source": [
    "#second_title_list\n",
    "title_list = second_title_list"
   ]
  },
  {
   "cell_type": "markdown",
   "metadata": {},
   "source": [
    "## 전화번호 가져오기"
   ]
  },
  {
   "cell_type": "code",
   "execution_count": 37,
   "metadata": {},
   "outputs": [
    {
     "data": {
      "text/plain": [
       "19"
      ]
     },
     "execution_count": 37,
     "metadata": {},
     "output_type": "execute_result"
    }
   ],
   "source": [
    "# 전화번호 찾기 1 실패\n",
    "tel_p = re.compile('\\d{2,3}-\\d{3,4}-\\d{4}') # 정규표현식 패턴 제작\n",
    "tel_all = raw_data.select('div ~ p')\n",
    "tel_list = []\n",
    "for item in tel_all:\n",
    "    str_item = str(item) # findall()이 문자열을 찾아주기 때문에 문자열로 변환\n",
    "    info = tel_p.findall(str_item)\n",
    "    if info:\n",
    "        tel_list.append(info)\n",
    "len(tel_list)"
   ]
  },
  {
   "cell_type": "code",
   "execution_count": 38,
   "metadata": {},
   "outputs": [
    {
     "data": {
      "text/plain": [
       "20"
      ]
     },
     "execution_count": 38,
     "metadata": {},
     "output_type": "execute_result"
    }
   ],
   "source": [
    "# 전화번호 찾기 2 성공\n",
    "tel_p = re.compile('\\d{2,3}-\\d{3,4}-\\d{4}') # 정규표현식 패턴 제작\n",
    "tel_all = raw_data.select('p')\n",
    "tel_list = []\n",
    "for item in tel_all:\n",
    "    str_item = str(item) # findall()이 문자열을 찾아주기 때문에 문자열로 변환\n",
    "    info = tel_p.findall(str_item)\n",
    "    if info:\n",
    "        tel_list.append(info)\n",
    "len(tel_list)"
   ]
  },
  {
   "cell_type": "code",
   "execution_count": 44,
   "metadata": {},
   "outputs": [],
   "source": [
    "# 전화번호 찾기 3 성공\n",
    "tel_p = re.compile('\\d{2,3}-\\d{3,4}-\\d{4}') # 정규표현식 패턴 제작\n",
    "tel_data = raw_data.find_all(string = tel_p) # string 속성에 패턴 넣기\n",
    "tel_list = []\n",
    "for tel_one in tel_data:\n",
    "    tel_list.append(tel_one.strip())"
   ]
  },
  {
   "cell_type": "code",
   "execution_count": 46,
   "metadata": {},
   "outputs": [],
   "source": [
    "#tel_list"
   ]
  },
  {
   "cell_type": "markdown",
   "metadata": {},
   "source": [
    "## 주소 가져오기"
   ]
  },
  {
   "cell_type": "code",
   "execution_count": 51,
   "metadata": {},
   "outputs": [],
   "source": [
    "# 주소 찾기\n",
    "address_p = re.compile('^.*구\\s.*동') # 정규표현식 패턴 제작\n",
    "address_data = raw_data.find_all(string = address_p) # string 속성에 패턴 넣기\n",
    "address_list = []\n",
    "for address_one in address_data:\n",
    "    address_list.append(address_one.strip().replace('\\xa0',' '))"
   ]
  },
  {
   "cell_type": "code",
   "execution_count": 52,
   "metadata": {},
   "outputs": [
    {
     "data": {
      "text/plain": [
       "['서울시 서대문구 창천동 72-36',\n",
       " '서울시 용산구 용산동3가 1-21',\n",
       " '서울시 영등포구 여의도동 44-37 아일렉스타워15층(스카이점)',\n",
       " '서울시 광진구 화양동 9-22',\n",
       " '서울시 강북구 수유동 563-14',\n",
       " '서울시 성북구 동소문동 1가 62',\n",
       " '서울시 강남구 역삼동 821 이즈타워 B3',\n",
       " '서울시 마포구 아현동  282-1',\n",
       " '서울시 강남구 논현동 98-12',\n",
       " '서울시 강남구 청담동 80-21',\n",
       " '서울시 강남구 신사동 526-11',\n",
       " '서울시 서초구 반포4동 82-22',\n",
       " '서울시 동대문구 제기동 138-2',\n",
       " '서울시 종로구 누하동 25-1',\n",
       " '서울시 서초구 양재동 1-28',\n",
       " '서울시 종로구 부암동 208-37',\n",
       " '종로구 당주동 5 로얄빌딩 지하 1층',\n",
       " '서울 마포구 연남동 257-8',\n",
       " '서울 중구 필동 1가 3-20',\n",
       " '서울 중구 북창동 93-36']"
      ]
     },
     "execution_count": 52,
     "metadata": {},
     "output_type": "execute_result"
    }
   ],
   "source": [
    "address_list"
   ]
  },
  {
   "cell_type": "code",
   "execution_count": 53,
   "metadata": {},
   "outputs": [],
   "source": [
    "restaurant_list = []\n",
    "for i in range(len(title_list)):\n",
    "    info = (title_list[i], tel_list[i], address_list[i])\n",
    "    restaurant_list.append(info)"
   ]
  },
  {
   "cell_type": "code",
   "execution_count": 54,
   "metadata": {},
   "outputs": [
    {
     "data": {
      "text/plain": [
       "[('다성일식', '02-338-8951', '서울시 서대문구 창천동 72-36'),\n",
       " ('봉산집', '02-793-5022', '서울시 용산구 용산동3가 1-21'),\n",
       " ('창고43', '02-786-5959', '서울시 영등포구 여의도동 44-37 아일렉스타워15층(스카이점)'),\n",
       " ('돕감자탕', '02-499-2838', '서울시 광진구 화양동 9-22'),\n",
       " ('대보명가', '02-907-6998', '서울시 강북구 수유동 563-14'),\n",
       " ('해뜨는집', '02-764-6354', '서울시 성북구 동소문동 1가 62'),\n",
       " ('아이 해브어 드림', '02-3453-7696', '서울시 강남구 역삼동 821 이즈타워 B3'),\n",
       " ('아현동 간장게장', '02-312-7530', '서울시 마포구 아현동  282-1'),\n",
       " ('왕소금구이', '02-545-6844', '서울시 강남구 논현동 98-12'),\n",
       " ('라틀리에 모니크', '02-549-9210', '서울시 강남구 청담동 80-21'),\n",
       " ('비스트로 딩고', '02-518-7866', '서울시 강남구 신사동 526-11'),\n",
       " ('줄리에뜨', '02-535-4002', '서울시 서초구 반포4동 82-22'),\n",
       " ('충주집', '02-923-1068', '서울시 동대문구 제기동 138-2'),\n",
       " ('영화루', '02-738-1218', '서울시 종로구 누하동 25-1'),\n",
       " ('일품헌', '02-574-7117', '서울시 서초구 양재동 1-28'),\n",
       " ('립스테이크', '02-379-2581', '서울시 종로구 부암동 208-37'),\n",
       " ('오가와', '02-735-1001', '종로구 당주동 5 로얄빌딩 지하 1층'),\n",
       " ('까사디노아', '02-3142-1108', '서울 마포구 연남동 257-8'),\n",
       " ('충무로 주꾸미 불고기', '02-2279-0803', '서울 중구 필동 1가 3-20'),\n",
       " ('애성회관', '02-352-0303', '서울 중구 북창동 93-36')]"
      ]
     },
     "execution_count": 54,
     "metadata": {},
     "output_type": "execute_result"
    }
   ],
   "source": [
    "restaurant_list"
   ]
  }
 ],
 "metadata": {
  "kernelspec": {
   "display_name": "Python 3",
   "language": "python",
   "name": "python3"
  },
  "language_info": {
   "codemirror_mode": {
    "name": "ipython",
    "version": 3
   },
   "file_extension": ".py",
   "mimetype": "text/x-python",
   "name": "python",
   "nbconvert_exporter": "python",
   "pygments_lexer": "ipython3",
   "version": "3.7.7"
  }
 },
 "nbformat": 4,
 "nbformat_minor": 4
}
