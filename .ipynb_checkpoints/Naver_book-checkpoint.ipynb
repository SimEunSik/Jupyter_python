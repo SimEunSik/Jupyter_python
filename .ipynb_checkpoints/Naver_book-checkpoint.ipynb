{
 "cells": [
  {
   "cell_type": "markdown",
   "metadata": {},
   "source": [
    "# 네이버 책 검색기\n",
    "- 네이버 책 메뉴에서 빅데이터를 검색 해 책 제목, 저자, 출판사, 출판일, 정가, 할인가 출력"
   ]
  },
  {
   "cell_type": "code",
   "execution_count": 1,
   "metadata": {},
   "outputs": [
    {
     "data": {
      "text/html": [
       " \n",
       "<!-- 에디터 폰트를 조정합니다. -->\n",
       "<style type='text/css'>\n",
       ".CodeMirror{\n",
       "    font-size: 14px;\n",
       "    font-family: Bitstream Vera Sans Mono;}\n",
       "</style>\n"
      ],
      "text/plain": [
       "<IPython.core.display.HTML object>"
      ]
     },
     "metadata": {},
     "output_type": "display_data"
    }
   ],
   "source": [
    "%%html\n",
    " \n",
    "<!-- 에디터 폰트를 조정합니다. -->\n",
    "<style type='text/css'>\n",
    ".CodeMirror{\n",
    "    font-size: 14px;\n",
    "    font-family: Bitstream Vera Sans Mono;}\n",
    "</style>"
   ]
  },
  {
   "cell_type": "code",
   "execution_count": 2,
   "metadata": {},
   "outputs": [],
   "source": [
    "import requests\n",
    "from bs4 import BeautifulSoup"
   ]
  },
  {
   "cell_type": "markdown",
   "metadata": {},
   "source": [
    "## 주소 작업"
   ]
  },
  {
   "cell_type": "code",
   "execution_count": 3,
   "metadata": {},
   "outputs": [],
   "source": [
    "url = 'https://book.naver.com/search/search.nhn'\n",
    "params = {'sm':'sta_hty.book', \n",
    "          'sug':'', \n",
    "          'where':'nexearch',\n",
    "          'query':'bigdata'}"
   ]
  },
  {
   "cell_type": "markdown",
   "metadata": {},
   "source": [
    "## get 요청"
   ]
  },
  {
   "cell_type": "code",
   "execution_count": 4,
   "metadata": {},
   "outputs": [
    {
     "name": "stdout",
     "output_type": "stream",
     "text": [
      "200\n"
     ]
    }
   ],
   "source": [
    "response = requests.get(url, params=params)\n",
    "status_code = response.status_code\n",
    "print(status_code)\n",
    "if status_code == 200:\n",
    "    text = response.text"
   ]
  },
  {
   "cell_type": "markdown",
   "metadata": {},
   "source": [
    "## Str ==> BeautifulSoup 객체로 변환"
   ]
  },
  {
   "cell_type": "code",
   "execution_count": 5,
   "metadata": {},
   "outputs": [],
   "source": [
    "#print(text)\n",
    "soup = BeautifulSoup(text)"
   ]
  },
  {
   "cell_type": "markdown",
   "metadata": {},
   "source": [
    "## 책 전체 정보 가져오기 ==> 크롬 개발자 도구(F12)"
   ]
  },
  {
   "cell_type": "code",
   "execution_count": 6,
   "metadata": {},
   "outputs": [],
   "source": [
    "book_all = soup.find(id='searchBiblioList')\n",
    "#book_all = soup.find(attrs={'id':'searchBiblioList'})\n",
    "#book_all = soup.select_one('#searchBiblioList')\n",
    "#book_all"
   ]
  },
  {
   "cell_type": "code",
   "execution_count": 7,
   "metadata": {},
   "outputs": [],
   "source": [
    "book_all_li_all = book_all.select('li') # 책 전체\n",
    "book_all_li_one = book_all.select_one('li') # 책 한개"
   ]
  },
  {
   "cell_type": "code",
   "execution_count": 8,
   "metadata": {
    "scrolled": false
   },
   "outputs": [
    {
     "data": {
      "text/plain": [
       "<li style=\"position:relative;\">\n",
       "<div class=\"thumb type_search\">\n",
       "<div class=\"thumb_type thumb_type2\">\n",
       "<a class=\"N=a:bls.thumb,r:1,i:98000001_000000000000000000ECC37F\" href=\"http://book.naver.com/bookdb/book_detail.nhn?bid=15516543\" target=\"_blank\">\n",
       "<img alt=\"KNIME을 활용한 Big Data분석\" onerror=\"this.src='https://ssl.pstatic.net/static/book/image/noimg3.gif';\" src=\"https://bookthumb-phinf.pstatic.net/cover/155/165/15516543.jpg?type=m1&amp;udate=Thu Jun 04 18:35:29 KST 2020\"/><span class=\"mask\"><span class=\"bg1\"></span><span class=\"bg2\"></span></span>\n",
       "</a>\n",
       "</div>\n",
       "</div>\n",
       "<dl style=\"width:654px\">\n",
       "<dt>\n",
       "<a class=\"N=a:bls.title,r:1,i:98000001_000000000000000000ECC37F\" href=\"http://book.naver.com/bookdb/book_detail.nhn?bid=15516543\" target=\"_blank\">KNIME을 활용한 <strong>Big</strong> <strong>Data</strong>분석</a><span> (Click 하나로 끝내는 데이터 분석 KNIME)</span> </dt>\n",
       "<dd class=\"txt_block\">\n",
       "<a class=\"N=a:bls.author,r:1,i:4570282\" href=\"http://book.naver.com/search/search.nhn?query=%EC%A1%B0%EC%B9%98%EC%84%A0&amp;frameFilterType=1&amp;frameFilterValue=4570282\">조치선</a>, <a class=\"N=a:bls.author,r:1,i:9162\" href=\"http://book.naver.com/search/search.nhn?query=%EC%A0%95%EC%98%81%EC%A7%84&amp;frameFilterType=1&amp;frameFilterValue=9162\">정영진</a> 외 5명 저 <span class=\"bar\">|</span> <a class=\"N=a:bls.publisher,r:1,i:\" href=\"http://book.naver.com/search/search.nhn?filterType=7&amp;query=%EC%97%91%EC%85%88\">엑셈</a> <span class=\"bar\">|</span> 2019.09.25</dd>\n",
       "<dd class=\"txt_desc\">\n",
       "<div class=\"review_point\">\n",
       "<span style=\"width:100.0%;\">별점</span>\n",
       "</div>\n",
       "\t\t\t\t10.0<span class=\"blind\">점</span>\n",
       "<span class=\"bar\"> | </span>\n",
       "<a class=\"N=a:bls.review,r:1,i:\" href=\"/bookdb/review.nhn?bid=15516543\">네티즌리뷰</a>\n",
       "\t\t\t\t\t3건\n",
       "\t\t\t\t<span class=\"bar\">|</span>\n",
       "<a class=\"N=a:bls.bookbuy,r:1,i:98000001_000000000000000000ECC37F\" href=\"javascript:showBuyLayerByBid('15516543')\" id=\"buy_btn_15516543\" onclick=\"return showAdultLayer('15516543', 'false', 'false', 'false');\"><img alt=\"도서구매\" class=\"btn v2\" height=\"20\" id=\"btn_buy_img_15516543\" src=\"https://ssl.pstatic.net/static/book/image/btn_book_buy.gif\" title=\"구매 가능한 도서입니다.\" width=\"48\"/></a>\n",
       "\t\t\t\t\t <strike>25000원</strike> → <em class=\"price\">22500원(-10%)</em>\n",
       "</dd>\n",
       "<dd id=\"searchDescrition_15516543\" line=\"3\" type=\"책소개\">\n",
       "<span class=\"txt_g1\">소개 </span>\n",
       "\t\t\t\t쉽고 빠르게 활용할 수 있는 KNIME ANALYTICS PLATFORM 기반 데이터 분석KNIME은 독일의 KONSTANZ 대학에서 개발된 워크플로우 기반의 통합 데이터 분석 플랫폼입니다. ‘KNIME을 활용한 빅데이터 분석’은 데이터 분석을 처음 접하는 학생들과 현업 담당자들을 위하여 집필하였고 데이터 선택...</dd>\n",
       "<!-- 연관도서 노출 -->\n",
       "</dl>\n",
       "</li>"
      ]
     },
     "execution_count": 8,
     "metadata": {},
     "output_type": "execute_result"
    }
   ],
   "source": [
    "book_all_li_one"
   ]
  },
  {
   "cell_type": "markdown",
   "metadata": {},
   "source": [
    "## 책 bid 한개 가져오기"
   ]
  },
  {
   "cell_type": "code",
   "execution_count": 9,
   "metadata": {
    "scrolled": true
   },
   "outputs": [
    {
     "name": "stdout",
     "output_type": "stream",
     "text": [
      "15516543\n"
     ]
    }
   ],
   "source": [
    "bid_one = book_all_li_one.select_one('a')['href'].split('=')[1]\n",
    "print(bid_one)"
   ]
  },
  {
   "cell_type": "markdown",
   "metadata": {},
   "source": [
    "## 책 bid 다 가져와서 list에 담기"
   ]
  },
  {
   "cell_type": "code",
   "execution_count": 10,
   "metadata": {},
   "outputs": [],
   "source": [
    "bid_list = []\n",
    "for book_all_bid_one in book_all_li_all:\n",
    "    b_id = book_all_bid_one.select_one('a')['href'].split('=')[1]\n",
    "    bid_list.append(b_id)"
   ]
  },
  {
   "cell_type": "markdown",
   "metadata": {},
   "source": [
    "### bid list 확인"
   ]
  },
  {
   "cell_type": "code",
   "execution_count": 11,
   "metadata": {},
   "outputs": [
    {
     "name": "stdout",
     "output_type": "stream",
     "text": [
      "['15516543', '13587569', '13783099', '16338249', '16327795', '16346530', '14594752', '13784550', '13399152', '16276774', '10390764', '15748262', '13409559', '15746028', '15744672', '16113809', '15811120', '10220466', '15136965', '15760214']\n"
     ]
    }
   ],
   "source": [
    "print(bid_list)"
   ]
  },
  {
   "cell_type": "markdown",
   "metadata": {},
   "source": [
    "## 책제목 하나 가져오기"
   ]
  },
  {
   "cell_type": "code",
   "execution_count": 12,
   "metadata": {},
   "outputs": [
    {
     "name": "stdout",
     "output_type": "stream",
     "text": [
      "KNIME을 활용한 Big Data분석\n"
     ]
    }
   ],
   "source": [
    "book_title = book_all_li_one.select_one('img')['alt']\n",
    "book_title\n",
    "title_one = book_all_li_one.img['alt']\n",
    "print(title_one)"
   ]
  },
  {
   "cell_type": "markdown",
   "metadata": {},
   "source": [
    "## 책제목 전체 가져와서 list에 담기"
   ]
  },
  {
   "cell_type": "code",
   "execution_count": 13,
   "metadata": {},
   "outputs": [],
   "source": [
    "title_list = []\n",
    "for book_name_one in book_all_li_all:\n",
    "    b_title = book_name_one.select_one('img')['alt']\n",
    "    title_list.append(b_title)"
   ]
  },
  {
   "cell_type": "code",
   "execution_count": 14,
   "metadata": {},
   "outputs": [
    {
     "name": "stdout",
     "output_type": "stream",
     "text": [
      "['KNIME을 활용한 Big Data분석', '빅데이터', '빅데이터 리더십', 'BIG DATA를 활용한 K-뷰티경영학', 'Knowledge Discovery in Big Data from Astronomy and Earth Observation: Astrogeoinformatics', 'Ocean Energy Modeling and Simulation with Big Data: Computational Intelligence for System Optimizati', '헬스케어.의료분야 인공지능(AI)과 빅데이터(Big Data)의 핵심기술 개발동향과 국내외 시장 분석', '빅데이터 빅마인드', 'Everybody Lies: Big Data, New Data, and What the Internet Can Tell Us about Who We Really Are', 'Systems Simulation and Modeling for Cloud Computing and Big Data Applications', 'Big Data', 'Big Data', '지식의 방주039 대한민국 여행트렌드 2018 Ⅹ. 빅데이터(Big Data)', 'Big Data', 'Big Data', 'Sharing Economy and Big Data Analytics', 'Big Data Mining for Climate Change', 'MY BIG DATA', 'Big Data', 'Spatial Analysis Using Big Data: Methods and Urban Applications']\n"
     ]
    }
   ],
   "source": [
    "print(title_list)"
   ]
  },
  {
   "cell_type": "markdown",
   "metadata": {},
   "source": [
    "### 데이터 가공(책 한권)"
   ]
  },
  {
   "cell_type": "code",
   "execution_count": 15,
   "metadata": {},
   "outputs": [],
   "source": [
    "book_text = book_all_li_one.select_one('dd.txt_block').text\n",
    "book_text = book_text.replace('\\n', '').replace('\\xa0','')\n",
    "book_text = book_text.replace('\\r','').replace('\\t','')\n",
    "book_text_list = book_text.split('|')\n",
    "book_author = book_text_list[0]\n",
    "book_publisher = book_text_list[1]\n",
    "book_pubdate = book_text_list[2]"
   ]
  },
  {
   "cell_type": "markdown",
   "metadata": {},
   "source": [
    "### 데이터 가공(책 전체)"
   ]
  },
  {
   "cell_type": "code",
   "execution_count": 16,
   "metadata": {},
   "outputs": [],
   "source": [
    "author_list =[]\n",
    "publisher_list = []\n",
    "pubdate_list = []\n",
    "for book_all_li_one in book_all_li_all:\n",
    "    book_text = book_all_li_one.select_one('dd.txt_block').text\n",
    "    book_text = book_text.replace('\\n','').replace('\\r','')\n",
    "    book_text = book_text.replace('\\t','').replace('\\xa0','')\n",
    "    book_text_list = book_text.split('|')\n",
    "    if(len(book_text_list)) == 4:\n",
    "        book_author = book_text_list[0] + book_text_list[1]\n",
    "        book_publish = book_text_list[2]\n",
    "        book_pubdate = book_text_list[3]\n",
    "    else:\n",
    "        book_author = book_text_list[0]\n",
    "        book_publish = book_text_list[1]\n",
    "        book_pubdate = book_text_list[2]\n",
    "    author_list.append(book_author)\n",
    "    publisher_list.append(book_publish)\n",
    "    pubdate_list.append(book_pubdate)"
   ]
  },
  {
   "cell_type": "markdown",
   "metadata": {},
   "source": [
    "## 책 저자 하나 가져오기"
   ]
  },
  {
   "cell_type": "code",
   "execution_count": 17,
   "metadata": {
    "scrolled": true
   },
   "outputs": [
    {
     "name": "stdout",
     "output_type": "stream",
     "text": [
      "Yoshiki Yamagata 저 \n"
     ]
    }
   ],
   "source": [
    "print(book_author)"
   ]
  },
  {
   "cell_type": "markdown",
   "metadata": {},
   "source": [
    "## 모든 책 저자 가져오기"
   ]
  },
  {
   "cell_type": "code",
   "execution_count": 18,
   "metadata": {},
   "outputs": [
    {
     "name": "stdout",
     "output_type": "stream",
     "text": [
      "['조치선, 정영진 외 5명 저 ', '안지선 글  송진욱 그림', '김진호(대학교수), 최용주(대학부총장) 저 ', '이범식 김은주 전소현 이상범 저 ', 'Petr Skoda 저 ', 'Vikas Khare 저 ', '편집부 저 ', '박형준 저 ', 'Stephens-davidowitz, Seth 저 ', 'Dinesh Peter 저 ', '버나드 마 저  Ann Lee 역', 'Pedersen, John S. (EDT), Wilkinson, Adrian (EDT) 저 ', '조명화(여행작가) 저 ', 'Sarangi, Saswat, Sharma, Pankaj 저 ', 'Sarangi, Saswat, Sharma, Pankaj 저 ', 'Soraya Sedkaoui 저 ', 'Zhihua Zhang 저 ', '이랑(가수), 황국영 저 ', 'Zgurovsky, Michael Z., Zaychenko, Yuriy P. 저 ', 'Yoshiki Yamagata 저 ']\n"
     ]
    }
   ],
   "source": [
    "print(author_list)"
   ]
  },
  {
   "cell_type": "markdown",
   "metadata": {},
   "source": [
    "## 책 출판사 하나 가져오기"
   ]
  },
  {
   "cell_type": "code",
   "execution_count": 19,
   "metadata": {},
   "outputs": [
    {
     "name": "stdout",
     "output_type": "stream",
     "text": [
      "엑셈\n"
     ]
    }
   ],
   "source": [
    "print(book_publisher)"
   ]
  },
  {
   "cell_type": "markdown",
   "metadata": {},
   "source": [
    "## 모든 책 출판사 가져오기"
   ]
  },
  {
   "cell_type": "code",
   "execution_count": 20,
   "metadata": {},
   "outputs": [
    {
     "name": "stdout",
     "output_type": "stream",
     "text": [
      "['엑셈', '봄볕', '북카라반', '구민사', 'Elsevier', 'Elsevier', 'IRSGlobal', '리드리드출판', 'DeyStreetBooks', 'Elsevier', '교학사', 'EdwardElgarPub', '테마여행신문TTNThemeTravelNewsKorea', 'RoutledgeIndia', 'RoutledgeIndia', 'Wiley-ISTE', 'Elsevier', '소시민워크', 'Springer-NatureNewYorkInc', 'Elsevier']\n"
     ]
    }
   ],
   "source": [
    "print(publisher_list)"
   ]
  },
  {
   "cell_type": "markdown",
   "metadata": {},
   "source": [
    "## 책 출판일 하나 가져오기"
   ]
  },
  {
   "cell_type": "code",
   "execution_count": 21,
   "metadata": {},
   "outputs": [
    {
     "name": "stdout",
     "output_type": "stream",
     "text": [
      "2019.11.03\n"
     ]
    }
   ],
   "source": [
    "print(book_pubdate)"
   ]
  },
  {
   "cell_type": "markdown",
   "metadata": {},
   "source": [
    "## 모든 책 출판일 가져오기"
   ]
  },
  {
   "cell_type": "code",
   "execution_count": 22,
   "metadata": {},
   "outputs": [
    {
     "name": "stdout",
     "output_type": "stream",
     "text": [
      "['2019.09.25', '2018.05.16', '2018.07.25', '2020.04.20', '2020.04.22', '2020.04.21', '2019.02.26', '2018.07.27', '2018.02.27', '2020.03.09', '2016.03.20', '2019.11.29', '2018.03.03', '2019.10.05', '2019.10.03', '2020.01.09', '2019.12.03', '2016.02.01', '2019.07.05', '2019.11.03']\n"
     ]
    }
   ],
   "source": [
    "print(pubdate_list)"
   ]
  },
  {
   "cell_type": "markdown",
   "metadata": {},
   "source": [
    "## 책 가격(정가-할인가) 하나 가져오기"
   ]
  },
  {
   "cell_type": "code",
   "execution_count": 23,
   "metadata": {},
   "outputs": [
    {
     "name": "stdout",
     "output_type": "stream",
     "text": [
      "13000 11700\n"
     ]
    }
   ],
   "source": [
    "book_txt_desc = book_all_li_all[1].select_one('dd.txt_desc')\n",
    "price_old = book_txt_desc.select_one('strike').text\n",
    "price_old = price_old.split('원')[0]\n",
    "price_new = book_txt_desc.select_one('em.price').text\n",
    "price_new = price_new.split('원')[0]\n",
    "print(price_old, price_new)"
   ]
  },
  {
   "cell_type": "markdown",
   "metadata": {},
   "source": [
    "## 모든 책 가격(정가-할인가) 가져오기"
   ]
  },
  {
   "cell_type": "code",
   "execution_count": 24,
   "metadata": {},
   "outputs": [],
   "source": [
    "price_list = []\n",
    "for book_all_one in book_all_li_all:\n",
    "    book_txt_descs = book_all_one.select_one('dd.txt_desc')\n",
    "    price_olds = book_txt_descs.select_one('strike')\n",
    "    price_news = book_txt_descs.select_one('em.price')\n",
    "    if price_olds == None:\n",
    "        price_olds = 0\n",
    "    else:\n",
    "        price_olds = price_olds.text.split('원')[0]\n",
    "        #print(price_olds)\n",
    "    if price_news == None:\n",
    "        price_news = 0\n",
    "    else:\n",
    "        price_news = price_news.text.split('원')[0]\n",
    "        #print(price_news)\n",
    "    price_list.append((price_olds, price_news))"
   ]
  },
  {
   "cell_type": "code",
   "execution_count": 25,
   "metadata": {},
   "outputs": [
    {
     "name": "stdout",
     "output_type": "stream",
     "text": [
      "[('25000', '22500'), ('13000', '11700'), ('16000', '14400'), ('21000', '20370'), (0, 0), (0, 0), ('390000', '351000'), ('15800', '14220'), ('22220', '13880'), (0, 0), ('14000', '12600'), ('189540', '188320'), (0, 0), ('69650', '57120'), ('196560', '177940'), (0, 0), (0, 0), (0, 0), ('214180', '190630'), (0, 0)]\n"
     ]
    }
   ],
   "source": [
    "print(price_list)"
   ]
  },
  {
   "cell_type": "markdown",
   "metadata": {},
   "source": [
    "## Book_info_list"
   ]
  },
  {
   "cell_type": "code",
   "execution_count": 26,
   "metadata": {},
   "outputs": [],
   "source": [
    "book_info_list = []\n",
    "for i in range(len(bid_list)):\n",
    "    book_info_dict = dict()\n",
    "    book_info_dict['bid'] = bid_list[i]\n",
    "    book_info_dict['title'] = title_list[i]\n",
    "    book_info_dict['author'] = author_list[i]\n",
    "    book_info_dict['publisher'] = publisher_list[i]\n",
    "    book_info_dict['pubdate'] = pubdate_list[i]\n",
    "    book_info_dict['price_old_new'] = price_list[i]\n",
    "    book_info_list.append(book_info_dict)"
   ]
  },
  {
   "cell_type": "code",
   "execution_count": 27,
   "metadata": {},
   "outputs": [
    {
     "data": {
      "text/plain": [
       "[{'bid': '15516543',\n",
       "  'title': 'KNIME을 활용한 Big Data분석',\n",
       "  'author': '조치선, 정영진 외 5명 저 ',\n",
       "  'publisher': '엑셈',\n",
       "  'pubdate': '2019.09.25',\n",
       "  'price_old_new': ('25000', '22500')},\n",
       " {'bid': '13587569',\n",
       "  'title': '빅데이터',\n",
       "  'author': '안지선 글  송진욱 그림',\n",
       "  'publisher': '봄볕',\n",
       "  'pubdate': '2018.05.16',\n",
       "  'price_old_new': ('13000', '11700')},\n",
       " {'bid': '13783099',\n",
       "  'title': '빅데이터 리더십',\n",
       "  'author': '김진호(대학교수), 최용주(대학부총장) 저 ',\n",
       "  'publisher': '북카라반',\n",
       "  'pubdate': '2018.07.25',\n",
       "  'price_old_new': ('16000', '14400')},\n",
       " {'bid': '16338249',\n",
       "  'title': 'BIG DATA를 활용한 K-뷰티경영학',\n",
       "  'author': '이범식 김은주 전소현 이상범 저 ',\n",
       "  'publisher': '구민사',\n",
       "  'pubdate': '2020.04.20',\n",
       "  'price_old_new': ('21000', '20370')},\n",
       " {'bid': '16327795',\n",
       "  'title': 'Knowledge Discovery in Big Data from Astronomy and Earth Observation: Astrogeoinformatics',\n",
       "  'author': 'Petr Skoda 저 ',\n",
       "  'publisher': 'Elsevier',\n",
       "  'pubdate': '2020.04.22',\n",
       "  'price_old_new': (0, 0)},\n",
       " {'bid': '16346530',\n",
       "  'title': 'Ocean Energy Modeling and Simulation with Big Data: Computational Intelligence for System Optimizati',\n",
       "  'author': 'Vikas Khare 저 ',\n",
       "  'publisher': 'Elsevier',\n",
       "  'pubdate': '2020.04.21',\n",
       "  'price_old_new': (0, 0)},\n",
       " {'bid': '14594752',\n",
       "  'title': '헬스케어.의료분야 인공지능(AI)과 빅데이터(Big Data)의 핵심기술 개발동향과 국내외 시장 분석',\n",
       "  'author': '편집부 저 ',\n",
       "  'publisher': 'IRSGlobal',\n",
       "  'pubdate': '2019.02.26',\n",
       "  'price_old_new': ('390000', '351000')},\n",
       " {'bid': '13784550',\n",
       "  'title': '빅데이터 빅마인드',\n",
       "  'author': '박형준 저 ',\n",
       "  'publisher': '리드리드출판',\n",
       "  'pubdate': '2018.07.27',\n",
       "  'price_old_new': ('15800', '14220')},\n",
       " {'bid': '13399152',\n",
       "  'title': 'Everybody Lies: Big Data, New Data, and What the Internet Can Tell Us about Who We Really Are',\n",
       "  'author': 'Stephens-davidowitz, Seth 저 ',\n",
       "  'publisher': 'DeyStreetBooks',\n",
       "  'pubdate': '2018.02.27',\n",
       "  'price_old_new': ('22220', '13880')},\n",
       " {'bid': '16276774',\n",
       "  'title': 'Systems Simulation and Modeling for Cloud Computing and Big Data Applications',\n",
       "  'author': 'Dinesh Peter 저 ',\n",
       "  'publisher': 'Elsevier',\n",
       "  'pubdate': '2020.03.09',\n",
       "  'price_old_new': (0, 0)},\n",
       " {'bid': '10390764',\n",
       "  'title': 'Big Data',\n",
       "  'author': '버나드 마 저  Ann Lee 역',\n",
       "  'publisher': '교학사',\n",
       "  'pubdate': '2016.03.20',\n",
       "  'price_old_new': ('14000', '12600')},\n",
       " {'bid': '15748262',\n",
       "  'title': 'Big Data',\n",
       "  'author': 'Pedersen, John S. (EDT), Wilkinson, Adrian (EDT) 저 ',\n",
       "  'publisher': 'EdwardElgarPub',\n",
       "  'pubdate': '2019.11.29',\n",
       "  'price_old_new': ('189540', '188320')},\n",
       " {'bid': '13409559',\n",
       "  'title': '지식의 방주039 대한민국 여행트렌드 2018 Ⅹ. 빅데이터(Big Data)',\n",
       "  'author': '조명화(여행작가) 저 ',\n",
       "  'publisher': '테마여행신문TTNThemeTravelNewsKorea',\n",
       "  'pubdate': '2018.03.03',\n",
       "  'price_old_new': (0, 0)},\n",
       " {'bid': '15746028',\n",
       "  'title': 'Big Data',\n",
       "  'author': 'Sarangi, Saswat, Sharma, Pankaj 저 ',\n",
       "  'publisher': 'RoutledgeIndia',\n",
       "  'pubdate': '2019.10.05',\n",
       "  'price_old_new': ('69650', '57120')},\n",
       " {'bid': '15744672',\n",
       "  'title': 'Big Data',\n",
       "  'author': 'Sarangi, Saswat, Sharma, Pankaj 저 ',\n",
       "  'publisher': 'RoutledgeIndia',\n",
       "  'pubdate': '2019.10.03',\n",
       "  'price_old_new': ('196560', '177940')},\n",
       " {'bid': '16113809',\n",
       "  'title': 'Sharing Economy and Big Data Analytics',\n",
       "  'author': 'Soraya Sedkaoui 저 ',\n",
       "  'publisher': 'Wiley-ISTE',\n",
       "  'pubdate': '2020.01.09',\n",
       "  'price_old_new': (0, 0)},\n",
       " {'bid': '15811120',\n",
       "  'title': 'Big Data Mining for Climate Change',\n",
       "  'author': 'Zhihua Zhang 저 ',\n",
       "  'publisher': 'Elsevier',\n",
       "  'pubdate': '2019.12.03',\n",
       "  'price_old_new': (0, 0)},\n",
       " {'bid': '10220466',\n",
       "  'title': 'MY BIG DATA',\n",
       "  'author': '이랑(가수), 황국영 저 ',\n",
       "  'publisher': '소시민워크',\n",
       "  'pubdate': '2016.02.01',\n",
       "  'price_old_new': (0, 0)},\n",
       " {'bid': '15136965',\n",
       "  'title': 'Big Data',\n",
       "  'author': 'Zgurovsky, Michael Z., Zaychenko, Yuriy P. 저 ',\n",
       "  'publisher': 'Springer-NatureNewYorkInc',\n",
       "  'pubdate': '2019.07.05',\n",
       "  'price_old_new': ('214180', '190630')},\n",
       " {'bid': '15760214',\n",
       "  'title': 'Spatial Analysis Using Big Data: Methods and Urban Applications',\n",
       "  'author': 'Yoshiki Yamagata 저 ',\n",
       "  'publisher': 'Elsevier',\n",
       "  'pubdate': '2019.11.03',\n",
       "  'price_old_new': (0, 0)}]"
      ]
     },
     "execution_count": 27,
     "metadata": {},
     "output_type": "execute_result"
    }
   ],
   "source": [
    "book_info_list"
   ]
  }
 ],
 "metadata": {
  "kernelspec": {
   "display_name": "Python 3",
   "language": "python",
   "name": "python3"
  },
  "language_info": {
   "codemirror_mode": {
    "name": "ipython",
    "version": 3
   },
   "file_extension": ".py",
   "mimetype": "text/x-python",
   "name": "python",
   "nbconvert_exporter": "python",
   "pygments_lexer": "ipython3",
   "version": "3.7.7"
  }
 },
 "nbformat": 4,
 "nbformat_minor": 4
}
