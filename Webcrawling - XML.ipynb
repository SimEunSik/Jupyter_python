{
 "cells": [
  {
   "cell_type": "markdown",
   "metadata": {},
   "source": [
    "# 기상청 자료"
   ]
  },
  {
   "cell_type": "markdown",
   "metadata": {},
   "source": [
    "## 기상청 rss\n",
    "- https://www.weather.go.kr/weather/lifenindustry/sevice_rss.jsp"
   ]
  },
  {
   "cell_type": "markdown",
   "metadata": {},
   "source": [
    "## endpoint\n",
    "- http://www.kma.go.kr/weather/forecast/mid-term-rss3.jsp?stnId=108"
   ]
  },
  {
   "cell_type": "code",
   "execution_count": 19,
   "metadata": {},
   "outputs": [],
   "source": [
    "import urllib.request as req\n",
    "import requests\n",
    "from bs4 import BeautifulSoup\n",
    "import os.path\n",
    "import time"
   ]
  },
  {
   "cell_type": "code",
   "execution_count": 5,
   "metadata": {},
   "outputs": [],
   "source": [
    "url = 'http://www.kma.go.kr/weather/forecast/mid-term-rss3.jsp?stnId=108'\n",
    "dt = time.strftime('%Y%m%d', time.localtime(time.time()))\n",
    "xml_file = 'forecast_{}.xml'.format(dt)"
   ]
  },
  {
   "cell_type": "markdown",
   "metadata": {},
   "source": [
    "## xml 파일로 저장"
   ]
  },
  {
   "cell_type": "code",
   "execution_count": 6,
   "metadata": {},
   "outputs": [],
   "source": [
    "if not os.path.exists(xml_file):\n",
    "    req.urlretrieve(url, xml_file)"
   ]
  },
  {
   "cell_type": "code",
   "execution_count": 7,
   "metadata": {},
   "outputs": [],
   "source": [
    "# try-catch를 해야되지만 명백히 있는 파일이니까 바로 read\n",
    "xml = open(xml_file, 'r', encoding='utf-8').read()\n",
    "soup = BeautifulSoup(xml)"
   ]
  },
  {
   "cell_type": "code",
   "execution_count": 9,
   "metadata": {},
   "outputs": [],
   "source": [
    "location = soup.select_one('location')"
   ]
  },
  {
   "cell_type": "code",
   "execution_count": 12,
   "metadata": {},
   "outputs": [
    {
     "data": {
      "text/plain": [
       "'서울'"
      ]
     },
     "execution_count": 12,
     "metadata": {},
     "output_type": "execute_result"
    }
   ],
   "source": [
    "location.select_one('city').text"
   ]
  },
  {
   "cell_type": "code",
   "execution_count": 13,
   "metadata": {},
   "outputs": [],
   "source": [
    "locations = soup.select('location')"
   ]
  },
  {
   "cell_type": "code",
   "execution_count": 16,
   "metadata": {},
   "outputs": [],
   "source": [
    "info = dict()\n",
    "for location in locations:\n",
    "    city = location.select_one('city').text\n",
    "    weather = location.select_one('wf').text\n",
    "    if not (weather in info):\n",
    "        info[weather] = []\n",
    "    info[weather].append(city)"
   ]
  },
  {
   "cell_type": "code",
   "execution_count": 18,
   "metadata": {},
   "outputs": [],
   "source": [
    "#info"
   ]
  },
  {
   "cell_type": "markdown",
   "metadata": {},
   "source": [
    "# 케이웨더 생활날씨-생활지수 가져오기"
   ]
  },
  {
   "cell_type": "code",
   "execution_count": 22,
   "metadata": {},
   "outputs": [],
   "source": [
    "url = 'https://www.kweather.co.kr/forecast/forecast_living_jisu.html'\n",
    "response = requests.get(url)\n",
    "soup = BeautifulSoup(response.text)\n",
    "#soup"
   ]
  },
  {
   "cell_type": "code",
   "execution_count": 57,
   "metadata": {},
   "outputs": [
    {
     "data": {
      "text/plain": [
       "\"javascript:startRequest('../data/JISU/11B00000.xml','1');\""
      ]
     },
     "execution_count": 57,
     "metadata": {},
     "output_type": "execute_result"
    }
   ],
   "source": [
    "ul = soup.select_one('#jisu_navi_content')\n",
    "a_href = ul.select_one('a')['href']\n",
    "a_href"
   ]
  },
  {
   "cell_type": "code",
   "execution_count": 58,
   "metadata": {},
   "outputs": [
    {
     "data": {
      "text/plain": [
       "'/data/JISU/11B00000.xml'"
      ]
     },
     "execution_count": 58,
     "metadata": {},
     "output_type": "execute_result"
    }
   ],
   "source": [
    "address1 = a_href.split('..')[1]\n",
    "address2 = address1.split(\"',\")[0]\n",
    "address2"
   ]
  },
  {
   "cell_type": "code",
   "execution_count": 64,
   "metadata": {},
   "outputs": [],
   "source": [
    "a_href_all = ul.select('a')\n",
    "xml_list = []\n",
    "for item in a_href_all:\n",
    "    a_href = item['href']\n",
    "    address1 = a_href.split('..')[1]\n",
    "    address2 = address1.split(\"',\")[0]\n",
    "    xml_list.append(address2)"
   ]
  },
  {
   "cell_type": "code",
   "execution_count": 65,
   "metadata": {},
   "outputs": [
    {
     "data": {
      "text/plain": [
       "['/data/JISU/11B00000.xml',\n",
       " '/data/JISU/11D10000.xml',\n",
       " '/data/JISU/11D20000.xml',\n",
       " '/data/JISU/11C10000.xml',\n",
       " '/data/JISU/11C20000.xml',\n",
       " '/data/JISU/11H10000.xml',\n",
       " '/data/JISU/11H20000.xml',\n",
       " '/data/JISU/11F10000.xml',\n",
       " '/data/JISU/11F20000.xml',\n",
       " '/data/JISU/11G00000.xml']"
      ]
     },
     "execution_count": 65,
     "metadata": {},
     "output_type": "execute_result"
    }
   ],
   "source": [
    "xml_list"
   ]
  },
  {
   "cell_type": "markdown",
   "metadata": {},
   "source": [
    "## 정규표현식 사용하여 가져오기"
   ]
  },
  {
   "cell_type": "code",
   "execution_count": 66,
   "metadata": {},
   "outputs": [],
   "source": [
    "import re"
   ]
  },
  {
   "cell_type": "code",
   "execution_count": 68,
   "metadata": {},
   "outputs": [],
   "source": [
    "xml_re_list = []\n",
    "for item in a_href_all:\n",
    "    a_href = item['href']\n",
    "    info = re.search('/data/JISU/.+.xml', a_href)\n",
    "    xml_re_list.append(info.group())"
   ]
  },
  {
   "cell_type": "code",
   "execution_count": 69,
   "metadata": {},
   "outputs": [
    {
     "data": {
      "text/plain": [
       "['/data/JISU/11B00000.xml',\n",
       " '/data/JISU/11D10000.xml',\n",
       " '/data/JISU/11D20000.xml',\n",
       " '/data/JISU/11C10000.xml',\n",
       " '/data/JISU/11C20000.xml',\n",
       " '/data/JISU/11H10000.xml',\n",
       " '/data/JISU/11H20000.xml',\n",
       " '/data/JISU/11F10000.xml',\n",
       " '/data/JISU/11F20000.xml',\n",
       " '/data/JISU/11G00000.xml']"
      ]
     },
     "execution_count": 69,
     "metadata": {},
     "output_type": "execute_result"
    }
   ],
   "source": [
    "xml_re_list"
   ]
  },
  {
   "cell_type": "code",
   "execution_count": 70,
   "metadata": {},
   "outputs": [],
   "source": [
    "# 서울/경기\n",
    "url = 'https://www.kweather.co.kr{}'.format(xml_list[0])"
   ]
  },
  {
   "cell_type": "code",
   "execution_count": 73,
   "metadata": {},
   "outputs": [],
   "source": [
    "response = requests.get(url)"
   ]
  },
  {
   "cell_type": "code",
   "execution_count": 74,
   "metadata": {
    "scrolled": true
   },
   "outputs": [
    {
     "data": {
      "text/plain": [
       "200"
      ]
     },
     "execution_count": 74,
     "metadata": {},
     "output_type": "execute_result"
    }
   ],
   "source": [
    "response.status_code"
   ]
  },
  {
   "cell_type": "code",
   "execution_count": 77,
   "metadata": {},
   "outputs": [],
   "source": [
    "response.encoding = None"
   ]
  },
  {
   "cell_type": "code",
   "execution_count": 78,
   "metadata": {},
   "outputs": [
    {
     "data": {
      "text/plain": [
       "<?xml version='1.0' encoding='utf-8' ?>\n",
       "<jisu>\n",
       "<areacode>11B00000</areacode>\n",
       "<areaname>서울,경기</areaname>\n",
       "<tm>2020/06/08</tm>\n",
       "<tmyyyy>2020</tmyyyy>\n",
       "<tmmm>06</tmmm>\n",
       "<tmdd>08</tmdd>\n",
       "<tmyo>월</tmyo>\n",
       "<ndate num=\"0\">\n",
       "<jtitle>\n",
       "<name>나들이</name>\n",
       "<jfix>나들이</jfix>\n",
       "<num>01</num>\n",
       "<jnum>80</jnum>\n",
       "<jtext>더워서 걱정이네요</jtext>\n",
       "</jtitle>\n",
       "<jtitle>\n",
       "<name>빨래</name>\n",
       "<jfix>빨래</jfix>\n",
       "<num>02</num>\n",
       "<jnum>90</jnum>\n",
       "<jtext>아주 잘 말라요</jtext>\n",
       "</jtitle>\n",
       "<jtitle>\n",
       "<name>세차</name>\n",
       "<jfix>세차</jfix>\n",
       "<num>03</num>\n",
       "<jnum>90</jnum>\n",
       "<jtext>세차효과 길어요</jtext>\n",
       "</jtitle>\n",
       "<jtitle>\n",
       "<name>난방</name>\n",
       "<jfix>난방</jfix>\n",
       "<num>04</num>\n",
       "<jnum>20</jnum>\n",
       "<jtext>난방 불필요해요</jtext>\n",
       "</jtitle>\n",
       "<jtitle>\n",
       "<name>불조심</name>\n",
       "<jfix>불조심</jfix>\n",
       "<num>05</num>\n",
       "<jnum>20</jnum>\n",
       "<jtext>소화기 점검은 평소에</jtext>\n",
       "</jtitle>\n",
       "<jtitle>\n",
       "<name>운동</name>\n",
       "<jfix>운동</jfix>\n",
       "<num>06</num>\n",
       "<jnum>90</jnum>\n",
       "<jtext>컨디션이 좋습니다</jtext>\n",
       "</jtitle>\n",
       "<jtitle>\n",
       "<name>감기</name>\n",
       "<jfix>감기</jfix>\n",
       "<num>07</num>\n",
       "<jnum>60</jnum>\n",
       "<jtext>저항력을 높이세요</jtext>\n",
       "</jtitle>\n",
       "<jtitle>\n",
       "<name>공해</name>\n",
       "<jfix>공해</jfix>\n",
       "<num>08</num>\n",
       "<jnum>60</jnum>\n",
       "<jtext>대체로 좋은 편</jtext>\n",
       "</jtitle>\n",
       "<jtitle>\n",
       "<name>냉방</name>\n",
       "<jfix>냉방</jfix>\n",
       "<num>09</num>\n",
       "<jnum>60</jnum>\n",
       "<jtext>쾌적한 실내온도 유지하세요</jtext>\n",
       "</jtitle>\n",
       "<jtitle>\n",
       "<name>불쾌</name>\n",
       "<jfix>불쾌</jfix>\n",
       "<num>10</num>\n",
       "<jnum>80</jnum>\n",
       "<jtext>마음의 폭을 넓히세요</jtext>\n",
       "</jtitle>\n",
       "<jtitle>\n",
       "<name>자외선</name>\n",
       "<jfix>자외선</jfix>\n",
       "<num>11</num>\n",
       "<jnum>80</jnum>\n",
       "<jtext>장시간 야외활동은 위험해요</jtext>\n",
       "</jtitle>\n",
       "<jtitle>\n",
       "<name>모기</name>\n",
       "<jfix>모기</jfix>\n",
       "<num>12</num>\n",
       "<jnum>90</jnum>\n",
       "<jtext>모기 공격 조심</jtext>\n",
       "</jtitle>\n",
       "<jtitle>\n",
       "<name>부패</name>\n",
       "<jfix>부패</jfix>\n",
       "<num>13</num>\n",
       "<jnum>40</jnum>\n",
       "<jtext>냉장보관이 안전해요</jtext>\n",
       "</jtitle>\n",
       "<jtitle>\n",
       "<name>골프</name>\n",
       "<jfix>골프</jfix>\n",
       "<num>33</num>\n",
       "<jnum>80</jnum>\n",
       "<jtext>라운딩에 좋은 조건입니다.</jtext>\n",
       "</jtitle>\n",
       "</ndate>\n",
       "<ndate num=\"1\">\n",
       "<jtitle>\n",
       "<name>나들이</name>\n",
       "<jfix>나들이</jfix>\n",
       "<num>01</num>\n",
       "<jnum>70</jnum>\n",
       "<jtext>더위먹지 않도록 주의</jtext>\n",
       "</jtitle>\n",
       "<jtitle>\n",
       "<name>빨래</name>\n",
       "<jfix>빨래</jfix>\n",
       "<num>02</num>\n",
       "<jnum>90</jnum>\n",
       "<jtext>아주 잘 말라요</jtext>\n",
       "</jtitle>\n",
       "<jtitle>\n",
       "<name>세차</name>\n",
       "<jfix>세차</jfix>\n",
       "<num>03</num>\n",
       "<jnum>90</jnum>\n",
       "<jtext>세차하기 좋은날</jtext>\n",
       "</jtitle>\n",
       "<jtitle>\n",
       "<name>난방</name>\n",
       "<jfix>난방</jfix>\n",
       "<num>04</num>\n",
       "<jnum>20</jnum>\n",
       "<jtext>난방 불필요해요</jtext>\n",
       "</jtitle>\n",
       "<jtitle>\n",
       "<name>불조심</name>\n",
       "<jfix>불조심</jfix>\n",
       "<num>05</num>\n",
       "<jnum>20</jnum>\n",
       "<jtext>소화기 점검은 평소에</jtext>\n",
       "</jtitle>\n",
       "<jtitle>\n",
       "<name>운동</name>\n",
       "<jfix>운동</jfix>\n",
       "<num>06</num>\n",
       "<jnum>90</jnum>\n",
       "<jtext>컨디션이 좋습니다</jtext>\n",
       "</jtitle>\n",
       "<jtitle>\n",
       "<name>감기</name>\n",
       "<jfix>감기</jfix>\n",
       "<num>07</num>\n",
       "<jnum>60</jnum>\n",
       "<jtext>저항력을 높이세요</jtext>\n",
       "</jtitle>\n",
       "<jtitle>\n",
       "<name>공해</name>\n",
       "<jfix>공해</jfix>\n",
       "<num>08</num>\n",
       "<jnum>60</jnum>\n",
       "<jtext>대체로 좋은 편</jtext>\n",
       "</jtitle>\n",
       "<jtitle>\n",
       "<name>냉방</name>\n",
       "<jfix>냉방</jfix>\n",
       "<num>09</num>\n",
       "<jnum>60</jnum>\n",
       "<jtext>적당한 냉방이 필요해요</jtext>\n",
       "</jtitle>\n",
       "<jtitle>\n",
       "<name>불쾌</name>\n",
       "<jfix>불쾌</jfix>\n",
       "<num>10</num>\n",
       "<jnum>80</jnum>\n",
       "<jtext>말다툼은 금물</jtext>\n",
       "</jtitle>\n",
       "<jtitle>\n",
       "<name>자외선</name>\n",
       "<jfix>자외선</jfix>\n",
       "<num>11</num>\n",
       "<jnum>90</jnum>\n",
       "<jtext>장시간 야외활동은 위험해요</jtext>\n",
       "</jtitle>\n",
       "<jtitle>\n",
       "<name>모기</name>\n",
       "<jfix>모기</jfix>\n",
       "<num>12</num>\n",
       "<jnum>40</jnum>\n",
       "<jtext>모기가 힘이 없어요</jtext>\n",
       "</jtitle>\n",
       "<jtitle>\n",
       "<name>부패</name>\n",
       "<jfix>부패</jfix>\n",
       "<num>13</num>\n",
       "<jnum>60</jnum>\n",
       "<jtext>냉장고에 보관하세요</jtext>\n",
       "</jtitle>\n",
       "<jtitle>\n",
       "<name>골프</name>\n",
       "<jfix>골프</jfix>\n",
       "<num>33</num>\n",
       "<jnum>80</jnum>\n",
       "<jtext>라운딩에 좋은 조건입니다.</jtext>\n",
       "</jtitle>\n",
       "</ndate>\n",
       "<ndate num=\"2\">\n",
       "<jtitle>\n",
       "<name>나들이</name>\n",
       "<jfix>나들이</jfix>\n",
       "<num>01</num>\n",
       "<jfix></jfix>\n",
       "<jnum>70</jnum>\n",
       "<jtext>더위먹지 않도록 주의</jtext>\n",
       "</jtitle>\n",
       "<jtitle>\n",
       "<name>빨래</name>\n",
       "<jfix>빨래</jfix>\n",
       "<num>02</num>\n",
       "<jfix></jfix>\n",
       "<jnum>70</jnum>\n",
       "<jtext>마르는데 지장 없어요</jtext>\n",
       "</jtitle>\n",
       "<jtitle>\n",
       "<name>세차</name>\n",
       "<jfix>세차</jfix>\n",
       "<num>03</num>\n",
       "<jfix></jfix>\n",
       "<jnum>90</jnum>\n",
       "<jtext>광택도 내보세요</jtext>\n",
       "</jtitle>\n",
       "<jtitle>\n",
       "<name>난방</name>\n",
       "<jfix>난방</jfix>\n",
       "<num>04</num>\n",
       "<jfix></jfix>\n",
       "<jnum>20</jnum>\n",
       "<jtext>난방은 필요없어요</jtext>\n",
       "</jtitle>\n",
       "<jtitle>\n",
       "<name>불조심</name>\n",
       "<jfix>불조심</jfix>\n",
       "<num>05</num>\n",
       "<jfix></jfix>\n",
       "<jnum>20</jnum>\n",
       "<jtext>소화기 점검은 평소에</jtext>\n",
       "</jtitle>\n",
       "<jtitle>\n",
       "<name>운동</name>\n",
       "<jfix>운동</jfix>\n",
       "<num>06</num>\n",
       "<jfix></jfix>\n",
       "<jnum>70</jnum>\n",
       "<jtext>수분공급 충분히</jtext>\n",
       "</jtitle>\n",
       "<jtitle>\n",
       "<name>감기</name>\n",
       "<jfix>감기</jfix>\n",
       "<num>07</num>\n",
       "<jfix></jfix>\n",
       "<jnum>60</jnum>\n",
       "<jtext>저항력을 높이세요</jtext>\n",
       "</jtitle>\n",
       "<jtitle>\n",
       "<name>공해</name>\n",
       "<jfix>공해</jfix>\n",
       "<num>08</num>\n",
       "<jfix></jfix>\n",
       "<jnum>60</jnum>\n",
       "<jtext>대체로 좋은 편</jtext>\n",
       "</jtitle>\n",
       "<jtitle>\n",
       "<name>냉방</name>\n",
       "<jfix>냉방</jfix>\n",
       "<num>09</num>\n",
       "<jfix></jfix>\n",
       "<jnum>60</jnum>\n",
       "<jtext>활동시간에는 꼭 냉방 필요</jtext>\n",
       "</jtitle>\n",
       "<jtitle>\n",
       "<name>불쾌</name>\n",
       "<jfix>불쾌</jfix>\n",
       "<num>10</num>\n",
       "<jfix></jfix>\n",
       "<jnum>80</jnum>\n",
       "<jtext>마음을 너그럽게 가지세요</jtext>\n",
       "</jtitle>\n",
       "<jtitle>\n",
       "<name>자외선</name>\n",
       "<jfix>자외선</jfix>\n",
       "<num>11</num>\n",
       "<jfix></jfix>\n",
       "<jnum>90</jnum>\n",
       "<jtext>장시간 야외활동은 위험해요</jtext>\n",
       "</jtitle>\n",
       "<jtitle>\n",
       "<name>모기</name>\n",
       "<jfix>모기</jfix>\n",
       "<num>12</num>\n",
       "<jfix></jfix>\n",
       "<jnum>40</jnum>\n",
       "<jtext>모기가 힘이 없어요</jtext>\n",
       "</jtitle>\n",
       "<jtitle>\n",
       "<name>부패</name>\n",
       "<jfix>부패</jfix>\n",
       "<num>13</num>\n",
       "<jfix></jfix>\n",
       "<jnum>70</jnum>\n",
       "<jtext>부패 조심하세요</jtext>\n",
       "</jtitle>\n",
       "<jtitle>\n",
       "<name>골프</name>\n",
       "<jfix>골프</jfix>\n",
       "<num>33</num>\n",
       "<jfix></jfix>\n",
       "<jnum>80</jnum>\n",
       "<jtext>라운딩에 좋은 조건입니다.</jtext>\n",
       "</jtitle>\n",
       "</ndate>\n",
       "</jisu>"
      ]
     },
     "execution_count": 78,
     "metadata": {},
     "output_type": "execute_result"
    }
   ],
   "source": [
    "soup = BeautifulSoup(response.text)\n",
    "soup"
   ]
  },
  {
   "cell_type": "markdown",
   "metadata": {},
   "source": [
    "### 데이터 한개 가져오기"
   ]
  },
  {
   "cell_type": "code",
   "execution_count": 80,
   "metadata": {},
   "outputs": [
    {
     "name": "stdout",
     "output_type": "stream",
     "text": [
      "나들이 80 더워서 걱정이네요\n"
     ]
    }
   ],
   "source": [
    "jisu_name = soup.select_one('name').text\n",
    "jisu_jnum = soup.select_one('jnum').text\n",
    "jisu_jtext = soup.select_one('jtext').text\n",
    "print(jisu_name, jisu_jnum, jisu_jtext)"
   ]
  },
  {
   "cell_type": "markdown",
   "metadata": {},
   "source": [
    "### 데이터 전체 가져오기"
   ]
  },
  {
   "cell_type": "code",
   "execution_count": 83,
   "metadata": {},
   "outputs": [],
   "source": [
    "jisu_name_all = soup.select('name')\n",
    "jisu_jnum_all = soup.select('jnum')\n",
    "jisu_jtext_all = soup.select('jtext')"
   ]
  },
  {
   "cell_type": "code",
   "execution_count": 84,
   "metadata": {},
   "outputs": [
    {
     "name": "stdout",
     "output_type": "stream",
     "text": [
      "42\n",
      "42\n",
      "42\n"
     ]
    }
   ],
   "source": [
    "print(len(jisu_name_all))\n",
    "print(len(jisu_jnum_all))\n",
    "print(len(jisu_jtext_all))"
   ]
  },
  {
   "cell_type": "code",
   "execution_count": 87,
   "metadata": {},
   "outputs": [],
   "source": [
    "jisu_sk_list = []\n",
    "for i in range(len(jisu_name_all)):\n",
    "    jisu_i = (jisu_name_all[i].text, jisu_jnum_all[i].text, jisu_jtext_all[i].text)\n",
    "    jisu_sk_list.append(jisu_i)"
   ]
  },
  {
   "cell_type": "code",
   "execution_count": 89,
   "metadata": {},
   "outputs": [
    {
     "data": {
      "text/plain": [
       "[('나들이', '80', '더워서 걱정이네요'),\n",
       " ('빨래', '90', '아주 잘 말라요'),\n",
       " ('세차', '90', '세차효과 길어요'),\n",
       " ('난방', '20', '난방 불필요해요'),\n",
       " ('불조심', '20', '소화기 점검은 평소에'),\n",
       " ('운동', '90', '컨디션이 좋습니다'),\n",
       " ('감기', '60', '저항력을 높이세요'),\n",
       " ('공해', '60', '대체로 좋은 편'),\n",
       " ('냉방', '60', '쾌적한 실내온도 유지하세요'),\n",
       " ('불쾌', '80', '마음의 폭을 넓히세요'),\n",
       " ('자외선', '80', '장시간 야외활동은 위험해요'),\n",
       " ('모기', '90', '모기 공격 조심'),\n",
       " ('부패', '40', '냉장보관이 안전해요'),\n",
       " ('골프', '80', '라운딩에 좋은 조건입니다.'),\n",
       " ('나들이', '70', '더위먹지 않도록 주의'),\n",
       " ('빨래', '90', '아주 잘 말라요'),\n",
       " ('세차', '90', '세차하기 좋은날'),\n",
       " ('난방', '20', '난방 불필요해요'),\n",
       " ('불조심', '20', '소화기 점검은 평소에'),\n",
       " ('운동', '90', '컨디션이 좋습니다'),\n",
       " ('감기', '60', '저항력을 높이세요'),\n",
       " ('공해', '60', '대체로 좋은 편'),\n",
       " ('냉방', '60', '적당한 냉방이 필요해요'),\n",
       " ('불쾌', '80', '말다툼은 금물'),\n",
       " ('자외선', '90', '장시간 야외활동은 위험해요'),\n",
       " ('모기', '40', '모기가 힘이 없어요'),\n",
       " ('부패', '60', '냉장고에 보관하세요'),\n",
       " ('골프', '80', '라운딩에 좋은 조건입니다.'),\n",
       " ('나들이', '70', '더위먹지 않도록 주의'),\n",
       " ('빨래', '70', '마르는데 지장 없어요'),\n",
       " ('세차', '90', '광택도 내보세요'),\n",
       " ('난방', '20', '난방은 필요없어요'),\n",
       " ('불조심', '20', '소화기 점검은 평소에'),\n",
       " ('운동', '70', '수분공급 충분히'),\n",
       " ('감기', '60', '저항력을 높이세요'),\n",
       " ('공해', '60', '대체로 좋은 편'),\n",
       " ('냉방', '60', '활동시간에는 꼭 냉방 필요'),\n",
       " ('불쾌', '80', '마음을 너그럽게 가지세요'),\n",
       " ('자외선', '90', '장시간 야외활동은 위험해요'),\n",
       " ('모기', '40', '모기가 힘이 없어요'),\n",
       " ('부패', '70', '부패 조심하세요'),\n",
       " ('골프', '80', '라운딩에 좋은 조건입니다.')]"
      ]
     },
     "execution_count": 89,
     "metadata": {},
     "output_type": "execute_result"
    }
   ],
   "source": [
    "jisu_sk_list"
   ]
  }
 ],
 "metadata": {
  "kernelspec": {
   "display_name": "Python 3",
   "language": "python",
   "name": "python3"
  },
  "language_info": {
   "codemirror_mode": {
    "name": "ipython",
    "version": 3
   },
   "file_extension": ".py",
   "mimetype": "text/x-python",
   "name": "python",
   "nbconvert_exporter": "python",
   "pygments_lexer": "ipython3",
   "version": "3.7.7"
  }
 },
 "nbformat": 4,
 "nbformat_minor": 4
}
