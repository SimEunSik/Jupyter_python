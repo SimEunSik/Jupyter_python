{
 "cells": [
  {
   "cell_type": "code",
   "execution_count": 2,
   "metadata": {},
   "outputs": [],
   "source": [
    "import requests"
   ]
  },
  {
   "cell_type": "code",
   "execution_count": 11,
   "metadata": {},
   "outputs": [
    {
     "data": {
      "text/plain": [
       "200"
      ]
     },
     "execution_count": 11,
     "metadata": {},
     "output_type": "execute_result"
    }
   ],
   "source": [
    "address = '강원 속초시 수복로 58'\n",
    "app_key = 'KakaoAK ' + '1b131358d811397813db74376a179722'\n",
    "url = 'https://dapi.kakao.com/v2/local/search/address.json' # endpoint\n",
    "params = {\n",
    "    'query' : address,\n",
    "    'page' : '',\n",
    "    'AddressSize' : ''\n",
    "}\n",
    "headers = {'Authorization' : app_key}\n",
    "response = requests.get(url, headers=headers, params=params)\n",
    "response.status_code"
   ]
  },
  {
   "cell_type": "code",
   "execution_count": 12,
   "metadata": {
    "scrolled": true
   },
   "outputs": [
    {
     "data": {
      "text/plain": [
       "[{'address': {'address_name': '강원 속초시 교동 745-1',\n",
       "   'b_code': '4221010600',\n",
       "   'h_code': '4221057000',\n",
       "   'main_address_no': '745',\n",
       "   'mountain_yn': 'N',\n",
       "   'region_1depth_name': '강원',\n",
       "   'region_2depth_name': '속초시',\n",
       "   'region_3depth_h_name': '노학동',\n",
       "   'region_3depth_name': '교동',\n",
       "   'sub_address_no': '1',\n",
       "   'x': '128.576810434439',\n",
       "   'y': '38.1979139934353'},\n",
       "  'address_name': '강원 속초시 수복로 58',\n",
       "  'address_type': 'ROAD_ADDR',\n",
       "  'road_address': {'address_name': '강원 속초시 수복로 58',\n",
       "   'building_name': '',\n",
       "   'main_building_no': '58',\n",
       "   'region_1depth_name': '강원',\n",
       "   'region_2depth_name': '속초시',\n",
       "   'region_3depth_name': '교동',\n",
       "   'road_name': '수복로',\n",
       "   'sub_building_no': '',\n",
       "   'underground_yn': 'N',\n",
       "   'x': '128.576810434439',\n",
       "   'y': '38.1979139934353',\n",
       "   'zone_no': '24853'},\n",
       "  'x': '128.576810434439',\n",
       "  'y': '38.1979139934353'}]"
      ]
     },
     "execution_count": 12,
     "metadata": {},
     "output_type": "execute_result"
    }
   ],
   "source": [
    "response.json()['documents']"
   ]
  },
  {
   "cell_type": "code",
   "execution_count": null,
   "metadata": {},
   "outputs": [],
   "source": []
  },
  {
   "cell_type": "code",
   "execution_count": null,
   "metadata": {},
   "outputs": [],
   "source": []
  },
  {
   "cell_type": "code",
   "execution_count": null,
   "metadata": {},
   "outputs": [],
   "source": []
  },
  {
   "cell_type": "code",
   "execution_count": null,
   "metadata": {},
   "outputs": [],
   "source": []
  },
  {
   "cell_type": "code",
   "execution_count": null,
   "metadata": {},
   "outputs": [],
   "source": []
  },
  {
   "cell_type": "code",
   "execution_count": null,
   "metadata": {},
   "outputs": [],
   "source": []
  }
 ],
 "metadata": {
  "kernelspec": {
   "display_name": "Python 3",
   "language": "python",
   "name": "python3"
  },
  "language_info": {
   "codemirror_mode": {
    "name": "ipython",
    "version": 3
   },
   "file_extension": ".py",
   "mimetype": "text/x-python",
   "name": "python",
   "nbconvert_exporter": "python",
   "pygments_lexer": "ipython3",
   "version": "3.7.7"
  }
 },
 "nbformat": 4,
 "nbformat_minor": 4
}
