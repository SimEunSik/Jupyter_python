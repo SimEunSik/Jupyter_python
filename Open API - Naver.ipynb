{
 "cells": [
  {
   "cell_type": "markdown",
   "metadata": {},
   "source": [
    "# WEB-API(Application Programming Interface)\n",
    "- 웹서비스의 정보를 웹사이트를 통해 제공 : 크롤링으로 수집(비공식 수집)\n",
    "- 웹API : AIP 정보로 수집(공식적으로 수집)"
   ]
  },
  {
   "cell_type": "markdown",
   "metadata": {},
   "source": [
    "## 네이버 API\n",
    "\n",
    "1.1 네이버 가입 https://www.naver.com\n",
    "\n",
    "1.2 앱 ID 등록(개발자 계정) https://developers.naver.com/\n",
    "\n",
    "- 서비스API > 검색 > OpenAPI 신청\n",
    "- Client ID / Client Secret 발급 확인\n",
    "\n",
    "### 검색 API 활용\n",
    "- 책, 뉴스, 블로그, 카페 글 수집"
   ]
  },
  {
   "cell_type": "code",
   "execution_count": 1,
   "metadata": {},
   "outputs": [],
   "source": [
    "c_id = 'glFCNpHmWcZ2hOCDFAsG'\n",
    "c_secret = '4ZCr3SKTTz'"
   ]
  },
  {
   "cell_type": "code",
   "execution_count": 2,
   "metadata": {},
   "outputs": [],
   "source": [
    "import os\n",
    "import sys\n",
    "import urllib.request\n",
    "client_id = c_id\n",
    "client_secret = c_secret\n",
    "encText = urllib.parse.quote(\"파이썬\")\n",
    "url = \"https://openapi.naver.com/v1/search/blog?query=\" + encText # json 결과\n",
    "# url = \"https://openapi.naver.com/v1/search/blog.xml?query=\" + encText # xml 결과\n",
    "request = urllib.request.Request(url)\n",
    "request.add_header(\"X-Naver-Client-Id\",client_id)\n",
    "request.add_header(\"X-Naver-Client-Secret\",client_secret)\n",
    "response = urllib.request.urlopen(request)\n",
    "rescode = response.getcode()\n",
    "if(rescode==200):\n",
    "    response_body = response.read()\n",
    "#     print(response_body.decode('utf-8'))\n",
    "else:\n",
    "    print(\"Error Code:\" + rescode)"
   ]
  },
  {
   "cell_type": "code",
   "execution_count": 3,
   "metadata": {},
   "outputs": [],
   "source": [
    "import os\n",
    "import sys\n",
    "import requests\n",
    "import datetime\n",
    "import time"
   ]
  },
  {
   "cell_type": "code",
   "execution_count": 4,
   "metadata": {},
   "outputs": [
    {
     "data": {
      "text/plain": [
       "200"
      ]
     },
     "execution_count": 4,
     "metadata": {},
     "output_type": "execute_result"
    }
   ],
   "source": [
    "# json() 으로 만든 기본형태\n",
    "url = 'https://openapi.naver.com/v1/search/shop.json'\n",
    "params = {'query':'파이썬', 'display':'10', 'start':'1', 'sort':'date'}\n",
    "headers = {\n",
    "    'X-Naver-Client-Id':client_id, 'X-Naver-Client-Secret':client_secret\n",
    "}\n",
    "response = requests.get(url, headers=headers, params=params)\n",
    "response.status_code"
   ]
  },
  {
   "cell_type": "code",
   "execution_count": 5,
   "metadata": {},
   "outputs": [
    {
     "name": "stdout",
     "output_type": "stream",
     "text": [
      "20SS[로트레쇼즈]<b>PYTHON</b> PRINT SANDALS _ LDL054 95CP2911 _ Brown/Black\n",
      "20SS[스탠드]<b>PYTHON</b> PRINT SASHA OVERCOAT _ 60853 8674 _ Yellow/Black\n",
      "(신세계 파주 힐링그래스) (파주점)<b>파이톤</b>패턴 천연소가죽 여성 숄더백   크로스백 - HGHB5209 레드\n",
      "(신세계 파주 힐링그래스) (파주점)<b>파이톤</b>패턴 천연소가죽 여성 숄더백   크로스백 - HGHB5209 핑크\n",
      "(신세계 파주 힐링그래스) (파주점)<b>파이톤</b>패턴 천연소가죽 여성 숄더백   크로스백 - HGHB5209 블루\n",
      "[롯데아이몰][벤시몽(잡화)] 벤시몽 가방 <b>PYTHON</b> LINE MINI COINS WALLET BS9FWL570YL -\n",
      "<b>파이톤</b> 포켓 라운드 원피스 20D608A 빅사이즈 여성\n",
      "20SS[파리스 텍사스]<b>PYTHON</b> PRINT SANDALS _ PX215 XMP01 _ Beige/Brown\n",
      "[MSGM]<b>PYTHON</b>-EMBOSSED SKIRT _ 2641MDD10 195101 _ Black\n",
      "[파주점][신세계 파주 힐링그래스]<b>파이톤</b>패턴 천연소가죽 여성 숄더백 &amp; 크로스백 - HGHB5209 핑크\n"
     ]
    }
   ],
   "source": [
    "js = response.json()\n",
    "for i in js['items']:\n",
    "    title = i['title']\n",
    "    print(title)"
   ]
  },
  {
   "cell_type": "code",
   "execution_count": 6,
   "metadata": {},
   "outputs": [
    {
     "data": {
      "text/plain": [
       "200"
      ]
     },
     "execution_count": 6,
     "metadata": {},
     "output_type": "execute_result"
    }
   ],
   "source": [
    "# xml 으로 만든 기본형태\n",
    "url = 'https://openapi.naver.com/v1/search/blog.xml'\n",
    "params = {'query':'파이썬', 'display':'10', 'start':'1', 'sort':'date'}\n",
    "headers = {\n",
    "    'X-Naver-Client-Id':client_id, 'X-Naver-Client-Secret':client_secret\n",
    "}\n",
    "response = requests.get(url, headers=headers, params=params)\n",
    "response.status_code"
   ]
  },
  {
   "cell_type": "code",
   "execution_count": 7,
   "metadata": {},
   "outputs": [
    {
     "data": {
      "text/plain": [
       "<item><title>2020/6/9 서른, 자기계발 하기 딱 좋은 나이 * 1일 1성장일지... </title><link/>https://blog.naver.com/angelina9673?Redirect=Log&amp;logNo=221995923177<description>눈뜨스로 시작했고, 헤드스페이스의 Kindness 프로그램을 마쳤다 (10분 명상) #코딩공부 #&lt;b&gt;파이썬&lt;/b&gt; 업무를 시작하기 전에 한 시간 정도 코딩 공부를 했다. 김왼손의 4시간 분량의 입문 &lt;b&gt;파이썬&lt;/b&gt; 코스를 7일동안 공부해서... </description><bloggername>예리로그</bloggername><bloggerlink>https://blog.naver.com/angelina9673</bloggerlink><postdate>20200610</postdate></item>"
      ]
     },
     "execution_count": 7,
     "metadata": {},
     "output_type": "execute_result"
    }
   ],
   "source": [
    "from bs4 import BeautifulSoup\n",
    "soup = BeautifulSoup(response.text)\n",
    "book_one = soup.select_one('item')\n",
    "book_one"
   ]
  },
  {
   "cell_type": "code",
   "execution_count": 8,
   "metadata": {},
   "outputs": [
    {
     "data": {
      "text/plain": [
       "'2020/6/9 서른, 자기계발 하기 딱 좋은 나이 * 1일 1성장일지... '"
      ]
     },
     "execution_count": 8,
     "metadata": {},
     "output_type": "execute_result"
    }
   ],
   "source": [
    "book_one.select_one('title').text"
   ]
  },
  {
   "cell_type": "code",
   "execution_count": 9,
   "metadata": {},
   "outputs": [
    {
     "name": "stdout",
     "output_type": "stream",
     "text": [
      "2020/6/9 서른, 자기계발 하기 딱 좋은 나이 * 1일 1성장일지...  예리로그 https://blog.naver.com/angelina9673\n"
     ]
    }
   ],
   "source": [
    "title_b = book_one.select_one('title').text\n",
    "title = title_b.replace('<b>','').replace('</b>','')\n",
    "bloggername = book_one.select_one('bloggername').text\n",
    "bloggerlink = book_one.select_one('bloggerlink').text\n",
    "print(title, bloggername, bloggerlink)"
   ]
  },
  {
   "cell_type": "code",
   "execution_count": 10,
   "metadata": {},
   "outputs": [
    {
     "name": "stdout",
     "output_type": "stream",
     "text": [
      "2020/6/9 서른, 자기계발 하기 딱 좋은 나이 * 1일 1성장일지...  예리로그 https://blog.naver.com/angelina9673\n",
      "파이썬 독학, 프로그래밍 인강으로 공부하는 방법 부날파 : 부러진날개로파다닥 New https://blog.naver.com/cdh0584\n",
      "OpenCV-Python가 읽은 이미지를 어떻게  PyQt로 실행하는지 로베르토박 https://blog.naver.com/rjsdnrsla\n",
      "정보처리기사학원 쉽게 가르쳐줘서 좋았어요 멘토란 이런것이다 https://blog.naver.com/khu94\n",
      "정보처리산업기사인강 필기실기 두마리 토끼잡기 호잇의 룰루랄라 https://blog.naver.com/thebenzecl\n",
      "[Python] 파이썬 PIP 설치방법(Windows, Linux) 자대생 이솔의 일상 기록장 https://blog.naver.com/heesuh98\n",
      "파이썬 모의 해킹과 침투 테스팅, 에이콘출판사 한숨에 땅은 꺼져가네 https://blog.naver.com/63sideyviw\n",
      "python 3 업그레이드 (비망록) 인생을 Allegro♪ https://blog.naver.com/suzu1071\n",
      "&lt;점프 투 파이썬:0610&gt;  실습하기 해담아해 스위티쭌& 스윗엘리의 아레테를 찾아가는 길 https://blog.naver.com/sweetphotato\n",
      "[성동4차산업혁명체험센터] 2차 온라인강의 참가자 모집 성동 4차산업혁명 체험센터 https://blog.naver.com/sdfic\n"
     ]
    }
   ],
   "source": [
    "book_all = soup.select('item')\n",
    "for book_one in book_all:\n",
    "    title_b = book_one.select_one('title').text\n",
    "    title = title_b.replace('<b>','').replace('</b>','')\n",
    "    bloggername = book_one.select_one('bloggername').text\n",
    "    bloggerlink = book_one.select_one('bloggerlink').text\n",
    "    print(title, bloggername, bloggerlink)"
   ]
  }
 ],
 "metadata": {
  "kernelspec": {
   "display_name": "Python 3",
   "language": "python",
   "name": "python3"
  },
  "language_info": {
   "codemirror_mode": {
    "name": "ipython",
    "version": 3
   },
   "file_extension": ".py",
   "mimetype": "text/x-python",
   "name": "python",
   "nbconvert_exporter": "python",
   "pygments_lexer": "ipython3",
   "version": "3.7.7"
  }
 },
 "nbformat": 4,
 "nbformat_minor": 4
}
