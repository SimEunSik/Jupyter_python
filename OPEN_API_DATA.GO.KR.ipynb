{
 "cells": [
  {
   "cell_type": "markdown",
   "metadata": {},
   "source": [
    "# WEB-API(Application Programming Interface)\n",
    "- 웹서비스의 정보를 웹사이트를 통해 제공 : 크롤링으로 수집(비공식 수집)\n",
    "- 웹API : AIP 정보로 수집(공식적으로 수집)"
   ]
  },
  {
   "cell_type": "markdown",
   "metadata": {},
   "source": [
    "## 공공데이터 포털\n",
    "1. 공공데이터 포털 가입 https://www.data.go.kr\n",
    "2. 앱 ID 등록(개발자 계정)\n",
    "- 각 서비스 별로 신청"
   ]
  },
  {
   "cell_type": "markdown",
   "metadata": {},
   "source": [
    "## 출입국관광통계서비스\n",
    "- 사이트에서 검색 후 활용 신청\n",
    "- 출입국관광통계조회\n",
    "\n",
    "## 관광자원통계서비스\n",
    "- 전국 유료 관광지 입장객 정보 수집"
   ]
  },
  {
   "cell_type": "code",
   "execution_count": 1,
   "metadata": {},
   "outputs": [],
   "source": [
    "import requests\n",
    "import os\n",
    "import sys\n",
    "import datetime\n",
    "import time"
   ]
  },
  {
   "cell_type": "code",
   "execution_count": 2,
   "metadata": {},
   "outputs": [],
   "source": [
    "#pip install matplotlib\n",
    "import matplotlib.pyplot as plt\n",
    "import matplotlib\n",
    "from matplotlib import font_manager, rc"
   ]
  },
  {
   "cell_type": "markdown",
   "metadata": {},
   "source": [
    "### endpoint\n",
    "- http://openapi.tour.go.kr/openapi/service 는 공통 endpoint\n",
    "- 문서에 있는 오퍼레이션 명을 확인하여 원하는 주소 확인"
   ]
  },
  {
   "cell_type": "code",
   "execution_count": 3,
   "metadata": {},
   "outputs": [
    {
     "data": {
      "text/plain": [
       "200"
      ]
     },
     "execution_count": 3,
     "metadata": {},
     "output_type": "execute_result"
    }
   ],
   "source": [
    "# 중국 : 112 / 일본 : 130 / 미국 : 275\n",
    "url = 'http://openapi.tour.go.kr/openapi/service/EdrcntTourismStatsService/getEdrcntTourismStatsList'\n",
    "serviceKey = 'lg%2BwPhMeEjyYL6esKsQyaf8EGOFrJ0qfss5guvYbipJVC1e9KLfW7M92%2BF7EtBgwZf%2FcVV7PR57T%2FQtMBarUTA%3D%3D'\n",
    "serviceKey = requests.utils.unquote(serviceKey) # requests의 디코딩 하는 기능\n",
    "\n",
    "params = {\n",
    "    '_type' : 'json', # json을 지원하는 경우 _type을 붙어야됨.\n",
    "    'serviceKey' : serviceKey,\n",
    "    'YM' : '202004',\n",
    "    'NAT_CD' : '112',\n",
    "    'ED_CD' : 'E'\n",
    "}\n",
    "response = requests.get(url, params=params)\n",
    "response.status_code"
   ]
  },
  {
   "cell_type": "code",
   "execution_count": 4,
   "metadata": {},
   "outputs": [
    {
     "data": {
      "text/plain": [
       "'{\"response\":{\"header\":{\"resultCode\":\"0000\",\"resultMsg\":\"OK\"},\"body\":{\"items\":{\"item\":{\"ed\":\"방한외래관광객\",\"edCd\":\"E\",\"natCd\":112,\"natKorNm\":\"중  국\",\"num\":3935,\"rnum\":1,\"ym\":202004}},\"numOfRows\":10,\"pageNo\":1,\"totalCount\":1}}}'"
      ]
     },
     "execution_count": 4,
     "metadata": {},
     "output_type": "execute_result"
    }
   ],
   "source": [
    "# 사이트에서 주는 serviceKey와 response.url의 Key값이 다르다\n",
    "# 공공데이터 포털의 키는 1시간 이후에 정상작동됨\n",
    "# response.url\n",
    "response.text"
   ]
  },
  {
   "cell_type": "code",
   "execution_count": 8,
   "metadata": {},
   "outputs": [],
   "source": [
    "def get_request_url(ym, nat_cd, ed_cd='E'):\n",
    "    try:\n",
    "        url = 'http://openapi.tour.go.kr/openapi/service/EdrcntTourismStatsService/getEdrcntTourismStatsList'\n",
    "        serviceKey = 'lg%2BwPhMeEjyYL6esKsQyaf8EGOFrJ0qfss5guvYbipJVC1e9KLfW7M92%2BF7EtBgwZf%2FcVV7PR57T%2FQtMBarUTA%3D%3D'\n",
    "        serviceKey = requests.utils.unquote(serviceKey) # requests의 디코딩 하는 기능\n",
    "\n",
    "        params = {\n",
    "            '_type' : 'json', # json을 지원하는 경우 _type을 붙어야됨.\n",
    "            'serviceKey' : serviceKey,\n",
    "            'YM' : ym,\n",
    "            'NAT_CD' : nat_cd,\n",
    "            'ED_CD' : ed_cd\n",
    "        }\n",
    "        response = requests.get(url, params=params)\n",
    "        if response.status_code == 200:\n",
    "            rs_str = '{} Url Request Success'\n",
    "            print(rs_str.format(datetime.datetime.now()))\n",
    "            return response.json()\n",
    "        else:\n",
    "            print('status_code : '+response.status_code)\n",
    "            return None\n",
    "        \n",
    "    except Exception as e:\n",
    "        print(e)\n",
    "        return None"
   ]
  },
  {
   "cell_type": "code",
   "execution_count": 9,
   "metadata": {},
   "outputs": [
    {
     "name": "stdout",
     "output_type": "stream",
     "text": [
      "2020-06-11 14:36:35.555986 Url Request Success\n"
     ]
    },
    {
     "data": {
      "text/plain": [
       "{'response': {'header': {'resultCode': '0000', 'resultMsg': 'OK'},\n",
       "  'body': {'items': {'item': {'ed': '방한외래관광객',\n",
       "     'edCd': 'E',\n",
       "     'natCd': 112,\n",
       "     'natKorNm': '중  국',\n",
       "     'num': 3935,\n",
       "     'rnum': 1,\n",
       "     'ym': 202004}},\n",
       "   'numOfRows': 10,\n",
       "   'pageNo': 1,\n",
       "   'totalCount': 1}}}"
      ]
     },
     "execution_count": 9,
     "metadata": {},
     "output_type": "execute_result"
    }
   ],
   "source": [
    "ym = '202004'\n",
    "nat_cd = '112'\n",
    "response = get_request_url(ym, nat_cd, ed_cd='E')\n",
    "response"
   ]
  },
  {
   "cell_type": "code",
   "execution_count": 14,
   "metadata": {},
   "outputs": [
    {
     "name": "stdout",
     "output_type": "stream",
     "text": [
      "2020-06-11 15:10:28.270967 Url Request Success\n",
      "2020-06-11 15:10:28.317832 Url Request Success\n",
      "2020-06-11 15:10:28.364696 Url Request Success\n",
      "2020-06-11 15:10:28.395938 Url Request Success\n",
      "2020-06-11 15:10:28.442804 Url Request Success\n",
      "2020-06-11 15:10:28.474056 Url Request Success\n",
      "2020-06-11 15:10:28.531002 Url Request Success\n",
      "2020-06-11 15:10:28.557449 Url Request Success\n",
      "2020-06-11 15:10:28.588729 Url Request Success\n",
      "2020-06-11 15:10:28.635578 Url Request Success\n",
      "2020-06-11 15:10:28.682422 Url Request Success\n",
      "2020-06-11 15:10:28.713667 Url Request Success\n",
      "2020-06-11 15:10:28.768715 Url Request Success\n",
      "2020-06-11 15:10:28.790848 Url Request Success\n",
      "2020-06-11 15:10:28.837733 Url Request Success\n",
      "2020-06-11 15:10:28.884597 Url Request Success\n",
      "2020-06-11 15:10:28.915840 Url Request Success\n",
      "2020-06-11 15:10:28.967746 Url Request Success\n",
      "2020-06-11 15:10:29.011739 Url Request Success\n",
      "2020-06-11 15:10:29.055673 Url Request Success\n",
      "2020-06-11 15:10:29.088710 Url Request Success\n",
      "2020-06-11 15:10:29.123493 Url Request Success\n",
      "2020-06-11 15:10:29.154731 Url Request Success\n",
      "2020-06-11 15:10:29.211546 Url Request Success\n",
      "2020-06-11 15:10:29.240691 Url Request Success\n",
      "2020-06-11 15:10:29.271954 Url Request Success\n",
      "2020-06-11 15:10:29.303210 Url Request Success\n",
      "2020-06-11 15:10:29.350063 Url Request Success\n",
      "2020-06-11 15:10:29.396924 Url Request Success\n",
      "2020-06-11 15:10:29.440333 Url Request Success\n",
      "2020-06-11 15:10:29.478008 Url Request Success\n",
      "2020-06-11 15:10:29.506847 Url Request Success\n",
      "2020-06-11 15:10:29.538078 Url Request Success\n",
      "2020-06-11 15:10:29.584942 Url Request Success\n",
      "2020-06-11 15:10:29.631806 Url Request Success\n",
      "2020-06-11 15:10:29.675396 Url Request Success\n",
      "2020-06-11 15:10:29.707610 Url Request Success\n",
      "2020-06-11 15:10:29.738872 Url Request Success\n",
      "2020-06-11 15:10:29.785717 Url Request Success\n",
      "2020-06-11 15:10:29.816985 Url Request Success\n",
      "2020-06-11 15:10:29.863844 Url Request Success\n",
      "2020-06-11 15:10:29.912767 Url Request Success\n",
      "2020-06-11 15:10:29.941107 Url Request Success\n",
      "2020-06-11 15:10:29.972384 Url Request Success\n",
      "2020-06-11 15:10:30.003625 Url Request Success\n",
      "2020-06-11 15:10:30.050479 Url Request Success\n",
      "2020-06-11 15:10:30.097342 Url Request Success\n",
      "2020-06-11 15:10:30.124261 Url Request Success\n",
      "2020-06-11 15:10:30.172563 Url Request Success\n",
      "2020-06-11 15:10:30.206857 Url Request Success\n",
      "2020-06-11 15:10:30.238117 Url Request Success\n",
      "2020-06-11 15:10:30.269360 Url Request Success\n",
      "2020-06-11 15:10:30.300605 Url Request Success\n",
      "2020-06-11 15:10:30.342276 Url Request Success\n",
      "2020-06-11 15:10:30.376429 Url Request Success\n",
      "2020-06-11 15:10:30.407112 Url Request Success\n",
      "2020-06-11 15:10:30.453951 Url Request Success\n",
      "2020-06-11 15:10:30.485213 Url Request Success\n",
      "2020-06-11 15:10:30.532075 Url Request Success\n",
      "2020-06-11 15:10:30.578907 Url Request Success\n",
      "2020-06-11 15:10:30.608051 Url Request Success\n",
      "2020-06-11 15:10:30.654939 Url Request Success\n",
      "2020-06-11 15:10:30.686178 Url Request Success\n",
      "2020-06-11 15:10:30.733042 Url Request Success\n",
      "2020-06-11 15:10:30.783953 Url Request Success\n",
      "2020-06-11 15:10:30.817861 Url Request Success\n",
      "2020-06-11 15:10:30.841845 Url Request Success\n",
      "2020-06-11 15:10:30.873088 Url Request Success\n",
      "2020-06-11 15:10:30.914338 Url Request Success\n",
      "2020-06-11 15:10:30.929965 Url Request Success\n",
      "2020-06-11 15:10:30.961205 Url Request Success\n",
      "2020-06-11 15:10:31.010780 Url Request Success\n",
      "2020-06-11 15:10:31.044739 Url Request Success\n",
      "2020-06-11 15:10:31.073482 Url Request Success\n",
      "2020-06-11 15:10:31.114742 Url Request Success\n",
      "2020-06-11 15:10:31.192876 Url Request Success\n",
      "2020-06-11 15:10:31.240657 Url Request Success\n",
      "2020-06-11 15:10:31.275604 Url Request Success\n",
      "2020-06-11 15:10:31.299065 Url Request Success\n",
      "2020-06-11 15:10:31.331399 Url Request Success\n",
      "2020-06-11 15:10:31.378237 Url Request Success\n",
      "2020-06-11 15:10:31.416029 Url Request Success\n",
      "2020-06-11 15:10:31.459998 Url Request Success\n",
      "2020-06-11 15:10:31.491130 Url Request Success\n",
      "2020-06-11 15:10:31.516279 Url Request Success\n",
      "2020-06-11 15:10:31.563163 Url Request Success\n",
      "2020-06-11 15:10:31.594428 Url Request Success\n",
      "2020-06-11 15:10:31.632216 Url Request Success\n",
      "2020-06-11 15:10:31.688199 Url Request Success\n",
      "2020-06-11 15:10:31.725293 Url Request Success\n",
      "2020-06-11 15:10:31.756975 Url Request Success\n",
      "2020-06-11 15:10:31.788240 Url Request Success\n",
      "2020-06-11 15:10:31.822478 Url Request Success\n",
      "2020-06-11 15:10:31.869372 Url Request Success\n",
      "2020-06-11 15:10:31.919184 Url Request Success\n",
      "2020-06-11 15:10:31.940641 Url Request Success\n",
      "2020-06-11 15:10:31.987526 Url Request Success\n",
      "2020-06-11 15:10:32.023304 Url Request Success\n",
      "2020-06-11 15:10:32.070178 Url Request Success\n",
      "2020-06-11 15:10:32.101420 Url Request Success\n",
      "2020-06-11 15:10:32.160681 Url Request Success\n",
      "2020-06-11 15:10:32.190745 Url Request Success\n",
      "2020-06-11 15:10:32.223533 Url Request Success\n",
      "2020-06-11 15:10:32.254798 Url Request Success\n",
      "2020-06-11 15:10:32.286048 Url Request Success\n",
      "2020-06-11 15:10:32.340371 Url Request Success\n",
      "2020-06-11 15:10:32.369427 Url Request Success\n",
      "2020-06-11 15:10:32.405738 Url Request Success\n",
      "2020-06-11 15:10:32.439063 Url Request Success\n",
      "2020-06-11 15:10:32.485927 Url Request Success\n",
      "2020-06-11 15:10:32.523772 Url Request Success\n",
      "2020-06-11 15:10:32.574619 Url Request Success\n",
      "2020-06-11 15:10:32.610587 Url Request Success\n",
      "2020-06-11 15:10:32.641223 Url Request Success\n",
      "2020-06-11 15:10:32.672504 Url Request Success\n",
      "2020-06-11 15:10:32.719334 Url Request Success\n",
      "2020-06-11 15:10:32.755121 Url Request Success\n",
      "2020-06-11 15:10:32.801744 Url Request Success\n",
      "2020-06-11 15:10:32.840419 Url Request Success\n",
      "2020-06-11 15:10:32.858197 Url Request Success\n",
      "2020-06-11 15:10:32.905084 Url Request Success\n",
      "2020-06-11 15:10:32.940391 Url Request Success\n",
      "2020-06-11 15:10:32.987250 Url Request Success\n",
      "2020-06-11 15:10:33.034420 Url Request Success\n",
      "2020-06-11 15:10:33.057391 Url Request Success\n",
      "2020-06-11 15:10:33.104277 Url Request Success\n",
      "2020-06-11 15:10:33.141080 Url Request Success\n",
      "2020-06-11 15:10:33.172328 Url Request Success\n",
      "2020-06-11 15:10:33.225715 Url Request Success\n",
      "2020-06-11 15:10:33.274503 Url Request Success\n",
      "2020-06-11 15:10:33.306312 Url Request Success\n",
      "2020-06-11 15:10:33.325940 Url Request Success\n",
      "2020-06-11 15:10:33.357186 Url Request Success\n",
      "2020-06-11 15:10:33.388429 Url Request Success\n",
      "2020-06-11 15:10:33.419671 Url Request Success\n",
      "2020-06-11 15:10:33.441801 Url Request Success\n",
      "2020-06-11 15:10:33.473066 Url Request Success\n",
      "2020-06-11 15:10:33.514950 Url Request Success\n",
      "2020-06-11 15:10:33.541086 Url Request Success\n",
      "2020-06-11 15:10:33.572368 Url Request Success\n",
      "2020-06-11 15:10:33.619215 Url Request Success\n",
      "2020-06-11 15:10:33.657500 Url Request Success\n",
      "2020-06-11 15:10:33.704343 Url Request Success\n",
      "2020-06-11 15:10:33.737771 Url Request Success\n",
      "2020-06-11 15:10:33.757747 Url Request Success\n",
      "2020-06-11 15:10:33.788991 Url Request Success\n",
      "2020-06-11 15:10:33.820234 Url Request Success\n",
      "2020-06-11 15:10:33.842384 Url Request Success\n",
      "2020-06-11 15:10:33.873664 Url Request Success\n",
      "2020-06-11 15:10:33.922123 Url Request Success\n",
      "2020-06-11 15:10:33.958850 Url Request Success\n",
      "2020-06-11 15:10:33.990649 Url Request Success\n",
      "2020-06-11 15:10:34.027411 Url Request Success\n",
      "2020-06-11 15:10:34.089904 Url Request Success\n",
      "2020-06-11 15:10:34.127466 Url Request Success\n",
      "2020-06-11 15:10:34.159075 Url Request Success\n",
      "2020-06-11 15:10:34.186990 Url Request Success\n",
      "2020-06-11 15:10:34.216909 Url Request Success\n",
      "2020-06-11 15:10:34.247827 Url Request Success\n",
      "2020-06-11 15:10:34.275796 Url Request Success\n",
      "2020-06-11 15:10:34.310623 Url Request Success\n",
      "2020-06-11 15:10:34.353169 Url Request Success\n",
      "2020-06-11 15:10:34.390836 Url Request Success\n",
      "2020-06-11 15:10:34.425894 Url Request Success\n",
      "2020-06-11 15:10:34.462592 Url Request Success\n",
      "2020-06-11 15:10:34.499554 Url Request Success\n",
      "2020-06-11 15:10:34.536676 Url Request Success\n",
      "2020-06-11 15:10:34.576791 Url Request Success\n",
      "2020-06-11 15:10:34.619813 Url Request Success\n",
      "2020-06-11 15:10:34.657456 Url Request Success\n",
      "2020-06-11 15:10:37.711709 Url Request Success\n",
      "2020-06-11 15:10:37.758574 Url Request Success\n",
      "2020-06-11 15:10:37.796381 Url Request Success\n",
      "2020-06-11 15:10:37.827624 Url Request Success\n",
      "2020-06-11 15:10:37.881035 Url Request Success\n"
     ]
    },
    {
     "name": "stdout",
     "output_type": "stream",
     "text": [
      "2020-06-11 15:10:37.921455 Url Request Success\n",
      "2020-06-11 15:10:37.960350 Url Request Success\n",
      "2020-06-11 15:10:37.989361 Url Request Success\n",
      "2020-06-11 15:10:38.004982 Url Request Success\n",
      "2020-06-11 15:10:38.051845 Url Request Success\n"
     ]
    }
   ],
   "source": [
    "#def main():\n",
    "jsonResult = []\n",
    "# 중국 : 112 / 일본 : 130 / 미국 : 275\n",
    "nStartYear = 2005\n",
    "nEndYear = 2020\n",
    "nat_cd = '275'\n",
    "for year in range(nStartYear, nEndYear):\n",
    "    for month in range(1, 13):\n",
    "        ym = '{0}{1:0>2}'.format(str(year), str(month))\n",
    "        #print(ym)\n",
    "        response = get_request_url(ym, nat_cd, ed_cd='E')\n",
    "        check = response['response']['header']['resultMsg']\n",
    "        if(check == 'OK'):\n",
    "            natKorNm = response['response']['body']['items']['item']['natKorNm']\n",
    "            num = response['response']['body']['items']['item']['num']\n",
    "            item = {\n",
    "                'nat-name': natKorNm,\n",
    "                'nat_cd' : nat_cd,\n",
    "                'yyyymm' : ym,\n",
    "                'visit_cnt' : num\n",
    "                   }\n",
    "            jsonResult.append(item)"
   ]
  },
  {
   "cell_type": "code",
   "execution_count": 15,
   "metadata": {},
   "outputs": [
    {
     "data": {
      "text/plain": [
       "180"
      ]
     },
     "execution_count": 15,
     "metadata": {},
     "output_type": "execute_result"
    }
   ],
   "source": [
    "len(jsonResult)"
   ]
  },
  {
   "cell_type": "markdown",
   "metadata": {},
   "source": [
    "### json 파일로 저장"
   ]
  },
  {
   "cell_type": "code",
   "execution_count": 16,
   "metadata": {},
   "outputs": [],
   "source": [
    "import json"
   ]
  },
  {
   "cell_type": "code",
   "execution_count": 17,
   "metadata": {},
   "outputs": [],
   "source": [
    "fn = '해외방문객정보.json'\n",
    "with open(fn, 'w', encoding='utf-8') as outfile:\n",
    "    retJson = json.dumps(jsonResult, indent=4, sort_keys=True, ensure_ascii=False)\n",
    "    outfile.write(retJson)"
   ]
  },
  {
   "cell_type": "markdown",
   "metadata": {},
   "source": [
    "### 그래프로 시각화 하기"
   ]
  },
  {
   "cell_type": "code",
   "execution_count": 18,
   "metadata": {},
   "outputs": [],
   "source": [
    "cnVisit = []\n",
    "visitYM = []\n",
    "index = [] # 변수값\n",
    "i = 0\n",
    "for item in jsonResult:\n",
    "    index.append(i)\n",
    "    cnVisit.append(item['visit_cnt'])\n",
    "    visitYM.append(item['yyyymm'])\n",
    "    i += 1"
   ]
  },
  {
   "cell_type": "code",
   "execution_count": 19,
   "metadata": {},
   "outputs": [
    {
     "data": {
      "text/plain": [
       "(34769, '200501', 0)"
      ]
     },
     "execution_count": 19,
     "metadata": {},
     "output_type": "execute_result"
    }
   ],
   "source": [
    "cnVisit[0], visitYM[0], index[0]"
   ]
  },
  {
   "cell_type": "code",
   "execution_count": 20,
   "metadata": {},
   "outputs": [
    {
     "data": {
      "image/png": "[encoded data removed]",
      "text/plain": [
       "<Figure size 432x288 with 1 Axes>"
      ]
     },
     "metadata": {
      "needs_background": "light"
     },
     "output_type": "display_data"
    }
   ],
   "source": [
    "# 한글폰트설정\n",
    "font_loca = 'c:/windows/fonts/malgun.ttf'\n",
    "font_name = font_manager.FontProperties(fname=font_loca).get_name()  \n",
    "matplotlib.rc('font', family=font_name)\n",
    "\n",
    "plt.xticks(index, visitYM) # x 변수값\n",
    "plt.plot(index, cnVisit) # y 변수값\n",
    "plt.xlabel('방문월') # x 변수명\n",
    "plt.ylabel('방문객수') # y 변수명\n",
    "plt.grid(True) # 선 생기게 만듬\n",
    "plt.show()"
   ]
  },
  {
   "cell_type": "markdown",
   "metadata": {},
   "source": [
    "## 관광자원통계서비스\n",
    "- 사이트에서 검색 후 활용 신청\n",
    "- 출입국관광통계조회\n",
    "\n",
    "### 전국 유료 관광지 입장객 정보 수집\n",
    "- YM : 년월 201901\n",
    "- SIDO : 시도 서울특별시\n",
    "- GUNGU : 시군구 중구\n",
    "- RES_NM : 관광지명 경복궁\n",
    "- pageNo : 페이지 번호\n",
    "- numOfRow : 조회 자료 수 (Max: 100)"
   ]
  },
  {
   "cell_type": "code",
   "execution_count": 21,
   "metadata": {},
   "outputs": [],
   "source": [
    "def get_request_url2(ym, sido, gungu, res_nm):\n",
    "    try:\n",
    "        url = 'http://openapi.tour.go.kr/openapi/service/TourismResourceStatsService/getPchrgTrrsrtVisitorList'\n",
    "        serviceKey = 'lg%2BwPhMeEjyYL6esKsQyaf8EGOFrJ0qfss5guvYbipJVC1e9KLfW7M92%2BF7EtBgwZf%2FcVV7PR57T%2FQtMBarUTA%3D%3D'\n",
    "        serviceKey = requests.utils.unquote(serviceKey) # requests의 디코딩 하는 기능\n",
    "\n",
    "        params = {\n",
    "            '_type' : 'json', # json을 지원하는 경우 _type을 붙어야됨.\n",
    "            'serviceKey' : serviceKey,\n",
    "            'YM' : ym,\n",
    "            'SIDO' : sido,\n",
    "            'GUNGU' : gungu,\n",
    "            'RES_NM' : res_nm\n",
    "        }\n",
    "        response = requests.get(url, params=params)\n",
    "        if response.status_code == 200:\n",
    "            rs_str = '{} Url Request Success'\n",
    "            print(rs_str.format(datetime.datetime.now()))\n",
    "            return response.json()\n",
    "        else:\n",
    "            print('status_code : '+response.status_code)\n",
    "            return None\n",
    "        \n",
    "    except Exception as e:\n",
    "        print(e)\n",
    "        return None"
   ]
  },
  {
   "cell_type": "code",
   "execution_count": 22,
   "metadata": {},
   "outputs": [
    {
     "name": "stdout",
     "output_type": "stream",
     "text": [
      "2020-06-11 15:53:41.271283 Url Request Success\n"
     ]
    },
    {
     "data": {
      "text/plain": [
       "{'response': {'header': {'resultCode': '0000', 'resultMsg': 'OK'},\n",
       "  'body': {'items': {'item': {'addrCd': 2635,\n",
       "     'csForCnt': 286,\n",
       "     'csNatCnt': 9110,\n",
       "     'gungu': '해운대구',\n",
       "     'resNm': '부산시립미술관',\n",
       "     'rnum': 1,\n",
       "     'sido': '부산광역시',\n",
       "     'ym': 201201}},\n",
       "   'numOfRows': 10,\n",
       "   'pageNo': 1,\n",
       "   'totalCount': 1}}}"
      ]
     },
     "execution_count": 22,
     "metadata": {},
     "output_type": "execute_result"
    }
   ],
   "source": [
    "ym = '201201'\n",
    "sido = '부산광역시'\n",
    "gungu = '해운대구'\n",
    "res_nm = '부산시립미술관'\n",
    "response = get_request_url2(ym, sido, gungu, res_nm)\n",
    "response"
   ]
  },
  {
   "cell_type": "code",
   "execution_count": null,
   "metadata": {},
   "outputs": [],
   "source": []
  },
  {
   "cell_type": "code",
   "execution_count": null,
   "metadata": {},
   "outputs": [],
   "source": []
  }
 ],
 "metadata": {
  "kernelspec": {
   "display_name": "Python 3",
   "language": "python",
   "name": "python3"
  },
  "language_info": {
   "codemirror_mode": {
    "name": "ipython",
    "version": 3
   },
   "file_extension": ".py",
   "mimetype": "text/x-python",
   "name": "python",
   "nbconvert_exporter": "python",
   "pygments_lexer": "ipython3",
   "version": "3.7.7"
  }
 },
 "nbformat": 4,
 "nbformat_minor": 4
}
